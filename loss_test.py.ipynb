{
 "cells": [
  {
   "cell_type": "code",
   "execution_count": 1,
   "id": "08000824",
   "metadata": {},
   "outputs": [],
   "source": [
    "import torch\n",
    "import sys\n",
    "import importlib\n",
    "import models.tsg_loss as tsg_loss\n",
    "import models\n",
    "from models import tsg_centroid_module, tsg_seg_module\n",
    "from models.generator import CenterPointGenerator\n",
    "import os\n",
    "from torch.utils.data import Dataset, DataLoader\n",
    "import numpy as np"
   ]
  },
  {
   "cell_type": "code",
   "execution_count": 2,
   "id": "2fd2e4e4",
   "metadata": {},
   "outputs": [],
   "source": [
    "os.environ[\"CUDA_VISIBLE_DEVICES\"]=\"\""
   ]
  },
  {
   "cell_type": "code",
   "execution_count": 3,
   "id": "7df5fd4c",
   "metadata": {
    "scrolled": true
   },
   "outputs": [
    {
     "data": {
      "text/plain": [
       "get_model(\n",
       "  (sa1_1): PointNetSetAbstractionMsg(\n",
       "    (conv_blocks): ModuleList(\n",
       "      (0): ModuleList(\n",
       "        (0): Conv2d(9, 32, kernel_size=(1, 1), stride=(1, 1))\n",
       "        (1): Conv2d(32, 32, kernel_size=(1, 1), stride=(1, 1))\n",
       "      )\n",
       "      (1): ModuleList(\n",
       "        (0): Conv2d(9, 32, kernel_size=(1, 1), stride=(1, 1))\n",
       "        (1): Conv2d(32, 32, kernel_size=(1, 1), stride=(1, 1))\n",
       "      )\n",
       "    )\n",
       "    (bn_blocks): ModuleList(\n",
       "      (0): ModuleList(\n",
       "        (0): BatchNorm2d(32, eps=1e-05, momentum=0.1, affine=True, track_running_stats=True)\n",
       "        (1): BatchNorm2d(32, eps=1e-05, momentum=0.1, affine=True, track_running_stats=True)\n",
       "      )\n",
       "      (1): ModuleList(\n",
       "        (0): BatchNorm2d(32, eps=1e-05, momentum=0.1, affine=True, track_running_stats=True)\n",
       "        (1): BatchNorm2d(32, eps=1e-05, momentum=0.1, affine=True, track_running_stats=True)\n",
       "      )\n",
       "    )\n",
       "  )\n",
       "  (sa2_1): PointNetSetAbstractionMsg(\n",
       "    (conv_blocks): ModuleList(\n",
       "      (0): ModuleList(\n",
       "        (0): Conv2d(67, 64, kernel_size=(1, 1), stride=(1, 1))\n",
       "        (1): Conv2d(64, 128, kernel_size=(1, 1), stride=(1, 1))\n",
       "      )\n",
       "      (1): ModuleList(\n",
       "        (0): Conv2d(67, 64, kernel_size=(1, 1), stride=(1, 1))\n",
       "        (1): Conv2d(64, 128, kernel_size=(1, 1), stride=(1, 1))\n",
       "      )\n",
       "    )\n",
       "    (bn_blocks): ModuleList(\n",
       "      (0): ModuleList(\n",
       "        (0): BatchNorm2d(64, eps=1e-05, momentum=0.1, affine=True, track_running_stats=True)\n",
       "        (1): BatchNorm2d(128, eps=1e-05, momentum=0.1, affine=True, track_running_stats=True)\n",
       "      )\n",
       "      (1): ModuleList(\n",
       "        (0): BatchNorm2d(64, eps=1e-05, momentum=0.1, affine=True, track_running_stats=True)\n",
       "        (1): BatchNorm2d(128, eps=1e-05, momentum=0.1, affine=True, track_running_stats=True)\n",
       "      )\n",
       "    )\n",
       "  )\n",
       "  (sa3_1): PointNetSetAbstractionMsg(\n",
       "    (conv_blocks): ModuleList(\n",
       "      (0): ModuleList(\n",
       "        (0): Conv2d(259, 196, kernel_size=(1, 1), stride=(1, 1))\n",
       "        (1): Conv2d(196, 256, kernel_size=(1, 1), stride=(1, 1))\n",
       "      )\n",
       "      (1): ModuleList(\n",
       "        (0): Conv2d(259, 196, kernel_size=(1, 1), stride=(1, 1))\n",
       "        (1): Conv2d(196, 256, kernel_size=(1, 1), stride=(1, 1))\n",
       "      )\n",
       "    )\n",
       "    (bn_blocks): ModuleList(\n",
       "      (0): ModuleList(\n",
       "        (0): BatchNorm2d(196, eps=1e-05, momentum=0.1, affine=True, track_running_stats=True)\n",
       "        (1): BatchNorm2d(256, eps=1e-05, momentum=0.1, affine=True, track_running_stats=True)\n",
       "      )\n",
       "      (1): ModuleList(\n",
       "        (0): BatchNorm2d(196, eps=1e-05, momentum=0.1, affine=True, track_running_stats=True)\n",
       "        (1): BatchNorm2d(256, eps=1e-05, momentum=0.1, affine=True, track_running_stats=True)\n",
       "      )\n",
       "    )\n",
       "  )\n",
       "  (fp3_1): PointNetFeaturePropagation(\n",
       "    (mlp_convs): ModuleList(\n",
       "      (0): Conv1d(768, 256, kernel_size=(1,), stride=(1,))\n",
       "      (1): Conv1d(256, 256, kernel_size=(1,), stride=(1,))\n",
       "    )\n",
       "    (mlp_bns): ModuleList(\n",
       "      (0): BatchNorm1d(256, eps=1e-05, momentum=0.1, affine=True, track_running_stats=True)\n",
       "      (1): BatchNorm1d(256, eps=1e-05, momentum=0.1, affine=True, track_running_stats=True)\n",
       "    )\n",
       "  )\n",
       "  (fp2_1): PointNetFeaturePropagation(\n",
       "    (mlp_convs): ModuleList(\n",
       "      (0): Conv1d(320, 128, kernel_size=(1,), stride=(1,))\n",
       "      (1): Conv1d(128, 128, kernel_size=(1,), stride=(1,))\n",
       "    )\n",
       "    (mlp_bns): ModuleList(\n",
       "      (0): BatchNorm1d(128, eps=1e-05, momentum=0.1, affine=True, track_running_stats=True)\n",
       "      (1): BatchNorm1d(128, eps=1e-05, momentum=0.1, affine=True, track_running_stats=True)\n",
       "    )\n",
       "  )\n",
       "  (fp1_1): PointNetFeaturePropagation(\n",
       "    (mlp_convs): ModuleList(\n",
       "      (0): Conv1d(134, 64, kernel_size=(1,), stride=(1,))\n",
       "      (1): Conv1d(64, 32, kernel_size=(1,), stride=(1,))\n",
       "    )\n",
       "    (mlp_bns): ModuleList(\n",
       "      (0): BatchNorm1d(64, eps=1e-05, momentum=0.1, affine=True, track_running_stats=True)\n",
       "      (1): BatchNorm1d(32, eps=1e-05, momentum=0.1, affine=True, track_running_stats=True)\n",
       "    )\n",
       "  )\n",
       "  (pd_mask_1): Conv1d(32, 2, kernel_size=(1,), stride=(1,))\n",
       "  (wt_mask_1): Conv1d(32, 1, kernel_size=(1,), stride=(1,))\n",
       "  (sa1_2): PointNetSetAbstractionMsg(\n",
       "    (conv_blocks): ModuleList(\n",
       "      (0): ModuleList(\n",
       "        (0): Conv2d(37, 32, kernel_size=(1, 1), stride=(1, 1))\n",
       "        (1): Conv2d(32, 32, kernel_size=(1, 1), stride=(1, 1))\n",
       "      )\n",
       "      (1): ModuleList(\n",
       "        (0): Conv2d(37, 32, kernel_size=(1, 1), stride=(1, 1))\n",
       "        (1): Conv2d(32, 32, kernel_size=(1, 1), stride=(1, 1))\n",
       "      )\n",
       "    )\n",
       "    (bn_blocks): ModuleList(\n",
       "      (0): ModuleList(\n",
       "        (0): BatchNorm2d(32, eps=1e-05, momentum=0.1, affine=True, track_running_stats=True)\n",
       "        (1): BatchNorm2d(32, eps=1e-05, momentum=0.1, affine=True, track_running_stats=True)\n",
       "      )\n",
       "      (1): ModuleList(\n",
       "        (0): BatchNorm2d(32, eps=1e-05, momentum=0.1, affine=True, track_running_stats=True)\n",
       "        (1): BatchNorm2d(32, eps=1e-05, momentum=0.1, affine=True, track_running_stats=True)\n",
       "      )\n",
       "    )\n",
       "  )\n",
       "  (sa2_2): PointNetSetAbstractionMsg(\n",
       "    (conv_blocks): ModuleList(\n",
       "      (0): ModuleList(\n",
       "        (0): Conv2d(67, 64, kernel_size=(1, 1), stride=(1, 1))\n",
       "        (1): Conv2d(64, 128, kernel_size=(1, 1), stride=(1, 1))\n",
       "      )\n",
       "      (1): ModuleList(\n",
       "        (0): Conv2d(67, 64, kernel_size=(1, 1), stride=(1, 1))\n",
       "        (1): Conv2d(64, 128, kernel_size=(1, 1), stride=(1, 1))\n",
       "      )\n",
       "    )\n",
       "    (bn_blocks): ModuleList(\n",
       "      (0): ModuleList(\n",
       "        (0): BatchNorm2d(64, eps=1e-05, momentum=0.1, affine=True, track_running_stats=True)\n",
       "        (1): BatchNorm2d(128, eps=1e-05, momentum=0.1, affine=True, track_running_stats=True)\n",
       "      )\n",
       "      (1): ModuleList(\n",
       "        (0): BatchNorm2d(64, eps=1e-05, momentum=0.1, affine=True, track_running_stats=True)\n",
       "        (1): BatchNorm2d(128, eps=1e-05, momentum=0.1, affine=True, track_running_stats=True)\n",
       "      )\n",
       "    )\n",
       "  )\n",
       "  (sa3_2): PointNetSetAbstractionMsg(\n",
       "    (conv_blocks): ModuleList(\n",
       "      (0): ModuleList(\n",
       "        (0): Conv2d(259, 196, kernel_size=(1, 1), stride=(1, 1))\n",
       "        (1): Conv2d(196, 256, kernel_size=(1, 1), stride=(1, 1))\n",
       "      )\n",
       "      (1): ModuleList(\n",
       "        (0): Conv2d(259, 196, kernel_size=(1, 1), stride=(1, 1))\n",
       "        (1): Conv2d(196, 256, kernel_size=(1, 1), stride=(1, 1))\n",
       "      )\n",
       "    )\n",
       "    (bn_blocks): ModuleList(\n",
       "      (0): ModuleList(\n",
       "        (0): BatchNorm2d(196, eps=1e-05, momentum=0.1, affine=True, track_running_stats=True)\n",
       "        (1): BatchNorm2d(256, eps=1e-05, momentum=0.1, affine=True, track_running_stats=True)\n",
       "      )\n",
       "      (1): ModuleList(\n",
       "        (0): BatchNorm2d(196, eps=1e-05, momentum=0.1, affine=True, track_running_stats=True)\n",
       "        (1): BatchNorm2d(256, eps=1e-05, momentum=0.1, affine=True, track_running_stats=True)\n",
       "      )\n",
       "    )\n",
       "  )\n",
       "  (flatten_sa): PointNetSetAbstraction(\n",
       "    (mlp_convs): ModuleList(\n",
       "      (0): Conv2d(515, 256, kernel_size=(1, 1), stride=(1, 1))\n",
       "      (1): Conv2d(256, 512, kernel_size=(1, 1), stride=(1, 1))\n",
       "    )\n",
       "    (mlp_bns): ModuleList(\n",
       "      (0): BatchNorm2d(256, eps=1e-05, momentum=0.1, affine=True, track_running_stats=True)\n",
       "      (1): BatchNorm2d(512, eps=1e-05, momentum=0.1, affine=True, track_running_stats=True)\n",
       "    )\n",
       "  )\n",
       "  (fp3_2): PointNetFeaturePropagation(\n",
       "    (mlp_convs): ModuleList(\n",
       "      (0): Conv1d(768, 256, kernel_size=(1,), stride=(1,))\n",
       "      (1): Conv1d(256, 256, kernel_size=(1,), stride=(1,))\n",
       "    )\n",
       "    (mlp_bns): ModuleList(\n",
       "      (0): BatchNorm1d(256, eps=1e-05, momentum=0.1, affine=True, track_running_stats=True)\n",
       "      (1): BatchNorm1d(256, eps=1e-05, momentum=0.1, affine=True, track_running_stats=True)\n",
       "    )\n",
       "  )\n",
       "  (fp2_2): PointNetFeaturePropagation(\n",
       "    (mlp_convs): ModuleList(\n",
       "      (0): Conv1d(320, 128, kernel_size=(1,), stride=(1,))\n",
       "      (1): Conv1d(128, 128, kernel_size=(1,), stride=(1,))\n",
       "    )\n",
       "    (mlp_bns): ModuleList(\n",
       "      (0): BatchNorm1d(128, eps=1e-05, momentum=0.1, affine=True, track_running_stats=True)\n",
       "      (1): BatchNorm1d(128, eps=1e-05, momentum=0.1, affine=True, track_running_stats=True)\n",
       "    )\n",
       "  )\n",
       "  (fp1_2): PointNetFeaturePropagation(\n",
       "    (mlp_convs): ModuleList(\n",
       "      (0): Conv1d(162, 64, kernel_size=(1,), stride=(1,))\n",
       "      (1): Conv1d(64, 32, kernel_size=(1,), stride=(1,))\n",
       "    )\n",
       "    (mlp_bns): ModuleList(\n",
       "      (0): BatchNorm1d(64, eps=1e-05, momentum=0.1, affine=True, track_running_stats=True)\n",
       "      (1): BatchNorm1d(32, eps=1e-05, momentum=0.1, affine=True, track_running_stats=True)\n",
       "    )\n",
       "  )\n",
       "  (pd_mask_2): Conv1d(32, 1, kernel_size=(1,), stride=(1,))\n",
       "  (fc1): Linear(in_features=512, out_features=256, bias=True)\n",
       "  (bn1): LayerNorm((256,), eps=1e-05, elementwise_affine=True)\n",
       "  (fc2): Linear(in_features=256, out_features=8, bias=True)\n",
       ")"
      ]
     },
     "execution_count": 3,
     "metadata": {},
     "output_type": "execute_result"
    }
   ],
   "source": [
    "centroid_model = models.tsg_centroid_module.get_model()\n",
    "centroid_model.cuda()\n",
    "centroid_model.load_state_dict(torch.load(\"pretrained_centroid_model.h5\"))\n",
    "centroid_model.eval()\n",
    "\n",
    "point_loader = DataLoader(CenterPointGenerator(), batch_size=2)\n",
    "\n",
    "seg_model = tsg_seg_module.get_model()\n",
    "seg_model.load_state_dict(torch.load(\"model_seg\"))\n",
    "seg_model.cuda()\n",
    "seg_model.eval()\n"
   ]
  },
  {
   "cell_type": "code",
   "execution_count": 83,
   "id": "94ee12dc",
   "metadata": {},
   "outputs": [],
   "source": [
    "for item in point_loader:\n",
    "    points = item[0].cuda()\n",
    "    centroids = item[1].cuda()\n",
    "    output = centroid_model(points)\n",
    "    seg_label = item[2].cuda()\n"
   ]
  },
  {
   "cell_type": "code",
   "execution_count": 84,
   "id": "991c7a55",
   "metadata": {},
   "outputs": [],
   "source": [
    "#첫번쨰 아웃풋 cpu\n",
    "output_offset_cpu = output[4].cpu().detach().numpy()[0,:].T\n",
    "output_xyz_cpu = output[3].cpu().detach().numpy()[0,:].T\n",
    "cen_cpu = centroids.cpu().detach().numpy()[0,:].T\n",
    "output_dist_cpu = output[5].cpu().detach().numpy()[0,:].T\n",
    "output_input_xyz_cpu = output[2].cpu().detach().numpy()[0,:].T"
   ]
  },
  {
   "cell_type": "code",
   "execution_count": 85,
   "id": "64fb80a0",
   "metadata": {
    "scrolled": false
   },
   "outputs": [
    {
     "ename": "NameError",
     "evalue": "name 'get_gt_mask_labels' is not defined",
     "output_type": "error",
     "traceback": [
      "\u001b[1;31m---------------------------------------------------------------------------\u001b[0m",
      "\u001b[1;31mNameError\u001b[0m                                 Traceback (most recent call last)",
      "\u001b[1;32m<ipython-input-85-d6e4d1618e89>\u001b[0m in \u001b[0;36m<module>\u001b[1;34m\u001b[0m\n\u001b[0;32m     13\u001b[0m \u001b[1;33m\u001b[0m\u001b[0m\n\u001b[0;32m     14\u001b[0m \u001b[1;32mfor\u001b[0m \u001b[0mi\u001b[0m \u001b[1;32min\u001b[0m \u001b[0mrange\u001b[0m\u001b[1;33m(\u001b[0m\u001b[1;36m15\u001b[0m\u001b[1;33m)\u001b[0m\u001b[1;33m:\u001b[0m\u001b[1;33m\u001b[0m\u001b[1;33m\u001b[0m\u001b[0m\n\u001b[1;32m---> 15\u001b[1;33m     \u001b[0mgt_bin_label\u001b[0m \u001b[1;33m=\u001b[0m \u001b[0mget_gt_mask_labels\u001b[0m\u001b[1;33m(\u001b[0m\u001b[0mpred_seg\u001b[0m\u001b[1;33m[\u001b[0m\u001b[1;36m0\u001b[0m\u001b[1;33m]\u001b[0m\u001b[1;33m,\u001b[0m \u001b[0mpred_seg\u001b[0m\u001b[1;33m[\u001b[0m\u001b[1;36m1\u001b[0m\u001b[1;33m]\u001b[0m\u001b[1;33m,\u001b[0m\u001b[0mcropped_gt_labels\u001b[0m\u001b[1;33m)\u001b[0m\u001b[1;33m\u001b[0m\u001b[1;33m\u001b[0m\u001b[0m\n\u001b[0m\u001b[0;32m     16\u001b[0m     \u001b[0mtest_cropped\u001b[0m \u001b[1;33m=\u001b[0m \u001b[0mcropped_coords\u001b[0m\u001b[1;33m.\u001b[0m\u001b[0mcpu\u001b[0m\u001b[1;33m(\u001b[0m\u001b[1;33m)\u001b[0m\u001b[1;33m.\u001b[0m\u001b[0mdetach\u001b[0m\u001b[1;33m(\u001b[0m\u001b[1;33m)\u001b[0m\u001b[1;33m.\u001b[0m\u001b[0mnumpy\u001b[0m\u001b[1;33m(\u001b[0m\u001b[1;33m)\u001b[0m\u001b[1;33m[\u001b[0m\u001b[0mi\u001b[0m\u001b[1;33m]\u001b[0m\u001b[1;33m.\u001b[0m\u001b[0mT\u001b[0m\u001b[1;33m\u001b[0m\u001b[1;33m\u001b[0m\u001b[0m\n\u001b[0;32m     17\u001b[0m     \u001b[0mtest_gt_label\u001b[0m \u001b[1;33m=\u001b[0m \u001b[0mgt_bin_label\u001b[0m\u001b[1;33m.\u001b[0m\u001b[0mcpu\u001b[0m\u001b[1;33m(\u001b[0m\u001b[1;33m)\u001b[0m\u001b[1;33m.\u001b[0m\u001b[0mdetach\u001b[0m\u001b[1;33m(\u001b[0m\u001b[1;33m)\u001b[0m\u001b[1;33m.\u001b[0m\u001b[0mnumpy\u001b[0m\u001b[1;33m(\u001b[0m\u001b[1;33m)\u001b[0m\u001b[1;33m[\u001b[0m\u001b[0mi\u001b[0m\u001b[1;33m]\u001b[0m\u001b[1;33m.\u001b[0m\u001b[0mT\u001b[0m\u001b[1;33m.\u001b[0m\u001b[0mreshape\u001b[0m\u001b[1;33m(\u001b[0m\u001b[1;33m-\u001b[0m\u001b[1;36m1\u001b[0m\u001b[1;33m,\u001b[0m\u001b[1;36m1\u001b[0m\u001b[1;33m)\u001b[0m\u001b[1;33m\u001b[0m\u001b[1;33m\u001b[0m\u001b[0m\n",
      "\u001b[1;31mNameError\u001b[0m: name 'get_gt_mask_labels' is not defined"
     ]
    }
   ],
   "source": [
    "#이건 크롭 시각화\n",
    "import torch\n",
    "import models.tsg_utils as utils\n",
    "import importlib\n",
    "importlib.reload(utils)\n",
    "\n",
    "#o3d.visualization.draw_geometries([np_to_pcd(output_offset_cpu+output_xyz_cpu, color=[0,1,0]), np_to_pcd(cen_cpu)], mesh_show_back_face=False,mesh_show_wireframe=True)\n",
    "#o3d.visualization.draw_geometries([np_to_pcd(output_xyz_cpu, color=[0,1,0]), np_to_pcd(cen_cpu)], mesh_show_back_face=False,mesh_show_wireframe=True)\n",
    "#o3d.visualization.draw_geometries([np_to_pcd(output_xyz_cpu[output_gt_dist_cpu.reshape(256)<0.02], color=[0,1,0]), np_to_pcd(cen_cpu)], mesh_show_back_face=False,mesh_show_wireframe=True)\n",
    "#o3d.visualization.draw_geometries([np_to_pcd(output_xyz_cpu[output_dist_cpu.reshape(256)<0.02], color=[0,1,0]), np_to_pcd(cen_cpu)], mesh_show_back_face=False,mesh_show_wireframe=True)\n",
    "#sampled_db_scan = utils.dbscan_pc(output[3], output[4], output[5])\n",
    "#o3d.visualization.draw_geometries([np_to_pcd(sampled_db_scan[0], color=[0,1,0]), np_to_pcd(cen_cpu)], mesh_show_back_face=False,mesh_show_wireframe=True)\n",
    "\n",
    "for i in range(15):\n",
    "    gt_bin_label = get_gt_mask_labels(pred_seg[0], pred_seg[1],cropped_gt_labels)\n",
    "    test_cropped = cropped_coords.cpu().detach().numpy()[i].T\n",
    "    test_gt_label = gt_bin_label.cpu().detach().numpy()[i].T.reshape(-1,1)\n",
    "    test_cropped = np.concatenate([test_cropped, test_gt_label],axis=1)\n",
    "\n",
    "    test_cropped_2 = cropped_coords.cpu().detach().numpy()[i].T\n",
    "    test_gt_label_2 = gt_bin_label.cpu().detach().numpy()[i].T.reshape(-1,1)\n",
    "    test_cropped_2 = np.concatenate([test_cropped_2, test_gt_label_2],axis=1)\n",
    "    #o3d.visualization.draw_geometries([np_to_pcd(test_cropped, color=[0,1,0]), np_to_pcd(cen_cpu)], mesh_show_back_face=False,mesh_show_wireframe=True)\n",
    "    o3d.visualization.draw_geometries([np_to_by_label(test_cropped, axis=3), np_to_by_label(test_cropped_2, axis=3),np_to_pcd(cen_cpu)], mesh_show_back_face=False,mesh_show_wireframe=True)\n"
   ]
  },
  {
   "cell_type": "code",
   "execution_count": null,
   "id": "ece574a1",
   "metadata": {},
   "outputs": [],
   "source": []
  },
  {
   "cell_type": "code",
   "execution_count": 16,
   "id": "bdf5f7fa",
   "metadata": {
    "scrolled": true
   },
   "outputs": [],
   "source": [
    "#두번째 아웃풋을 위한 정리\n",
    "import torch\n",
    "import models.tsg_utils as utils\n",
    "import importlib\n",
    "importlib.reload(utils)\n",
    "sampled_db_scan = utils.dbscan_pc(output[3], output[4], output[5])\n",
    "nearest_n = utils.get_nearest_neighbor_idx(output[2], sampled_db_scan, 1024)\n",
    "cropped_coords, _ = utils.get_nearest_neighbor_points_with_centroids(output[2], nearest_n, sampled_db_scan)\n",
    "cropped_gt_labels, _ = utils.get_nearest_neighbor_points_with_centroids(seg_label, nearest_n, sampled_db_scan)\n",
    "cropped_features, sampled_centroids = utils.get_nearest_neighbor_points_with_centroids(output[0], nearest_n, sampled_db_scan)\n",
    "seg_input = utils.concat_seg_input(cropped_features, cropped_coords, sampled_centroids)"
   ]
  },
  {
   "cell_type": "code",
   "execution_count": 79,
   "id": "18c410aa",
   "metadata": {},
   "outputs": [
    {
     "data": {
      "text/plain": [
       "(15, 3)"
      ]
     },
     "execution_count": 79,
     "metadata": {},
     "output_type": "execute_result"
    }
   ],
   "source": [
    "centroids[0].cpu().detach().numpy().T"
   ]
  },
  {
   "cell_type": "code",
   "execution_count": 82,
   "id": "aa17d154",
   "metadata": {},
   "outputs": [
    {
     "data": {
      "text/plain": [
       "[array([0.57430536, 0.2855183 , 0.47671822], dtype=float32),\n",
       " array([0.30624685, 0.36208075, 0.48492628], dtype=float32),\n",
       " array([0.8211819 , 0.73016703, 0.47616848], dtype=float32),\n",
       " array([0.81459004, 0.47073147, 0.45292598], dtype=float32),\n",
       " array([0.20956449, 0.53285533, 0.4886102 ], dtype=float32),\n",
       " array([0.44301438, 0.2812186 , 0.47983015], dtype=float32),\n",
       " array([0.15063447, 0.646658  , 0.4866246 ], dtype=float32),\n",
       " array([0.8132192 , 0.87917423, 0.4900948 ], dtype=float32),\n",
       " array([0.8185133 , 0.59723413, 0.46267468], dtype=float32),\n",
       " array([0.764142  , 0.396976  , 0.47683132], dtype=float32),\n",
       " array([0.1243805 , 0.68938357, 0.48455715], dtype=float32),\n",
       " array([0.70072955, 0.34770587, 0.47784054], dtype=float32),\n",
       " array([0.38049766, 0.3083023 , 0.48709378], dtype=float32),\n",
       " array([0.5105428 , 0.2831457 , 0.47171903], dtype=float32),\n",
       " array([0.25917622, 0.4368513 , 0.4794978 ], dtype=float32),\n",
       " array([0.63389796, 0.30182981, 0.48449236], dtype=float32)]"
      ]
     },
     "execution_count": 82,
     "metadata": {},
     "output_type": "execute_result"
    }
   ],
   "source": [
    "sampled_db_scan[0]"
   ]
  },
  {
   "cell_type": "code",
   "execution_count": 57,
   "id": "0f49e0e1",
   "metadata": {},
   "outputs": [],
   "source": [
    "import models.gen_utils as gen_utils\n",
    "importlib.reload(gen_utils)\n",
    "b = gen_utils.cropped_to_global_label_marker(points[0][:3], pred_seg[2], pred_seg[3], nearest_n[0])"
   ]
  },
  {
   "cell_type": "code",
   "execution_count": 59,
   "id": "e9cdc697",
   "metadata": {},
   "outputs": [
    {
     "data": {
      "text/plain": [
       "8.0"
      ]
     },
     "execution_count": 59,
     "metadata": {},
     "output_type": "execute_result"
    }
   ],
   "source": [
    "np.max(b)"
   ]
  },
  {
   "cell_type": "code",
   "execution_count": 53,
   "id": "63b4bf0f",
   "metadata": {},
   "outputs": [
    {
     "data": {
      "text/plain": [
       "0.0"
      ]
     },
     "execution_count": 53,
     "metadata": {},
     "output_type": "execute_result"
    }
   ],
   "source": [
    "np.max(b[:,3])"
   ]
  },
  {
   "cell_type": "code",
   "execution_count": 24,
   "id": "4ccb9a57",
   "metadata": {},
   "outputs": [
    {
     "data": {
      "text/plain": [
       "torch.Size([16, 8])"
      ]
     },
     "execution_count": 24,
     "metadata": {},
     "output_type": "execute_result"
    }
   ],
   "source": [
    "pred_seg[3].shape"
   ]
  },
  {
   "cell_type": "code",
   "execution_count": 7,
   "id": "579735fd",
   "metadata": {},
   "outputs": [
    {
     "ename": "NameError",
     "evalue": "name 'np' is not defined",
     "output_type": "error",
     "traceback": [
      "\u001b[1;31m---------------------------------------------------------------------------\u001b[0m",
      "\u001b[1;31mNameError\u001b[0m                                 Traceback (most recent call last)",
      "\u001b[1;32m<ipython-input-7-188d3a4a2b4e>\u001b[0m in \u001b[0;36m<module>\u001b[1;34m\u001b[0m\n\u001b[0;32m      6\u001b[0m     \u001b[0msampled_db_scan\u001b[0m \u001b[1;33m=\u001b[0m \u001b[0mutils\u001b[0m\u001b[1;33m.\u001b[0m\u001b[0mdbscan_pc\u001b[0m\u001b[1;33m(\u001b[0m\u001b[0moutput\u001b[0m\u001b[1;33m[\u001b[0m\u001b[1;36m3\u001b[0m\u001b[1;33m]\u001b[0m\u001b[1;33m,\u001b[0m \u001b[0moutput\u001b[0m\u001b[1;33m[\u001b[0m\u001b[1;36m4\u001b[0m\u001b[1;33m]\u001b[0m\u001b[1;33m,\u001b[0m \u001b[0moutput\u001b[0m\u001b[1;33m[\u001b[0m\u001b[1;36m5\u001b[0m\u001b[1;33m]\u001b[0m\u001b[1;33m)\u001b[0m\u001b[1;33m\u001b[0m\u001b[1;33m\u001b[0m\u001b[0m\n\u001b[0;32m      7\u001b[0m     \u001b[0mnearest_n\u001b[0m \u001b[1;33m=\u001b[0m \u001b[0mutils\u001b[0m\u001b[1;33m.\u001b[0m\u001b[0mget_nearest_neighbor_idx\u001b[0m\u001b[1;33m(\u001b[0m\u001b[0moutput\u001b[0m\u001b[1;33m[\u001b[0m\u001b[1;36m2\u001b[0m\u001b[1;33m]\u001b[0m\u001b[1;33m,\u001b[0m \u001b[0msampled_db_scan\u001b[0m\u001b[1;33m,\u001b[0m \u001b[1;36m1024\u001b[0m\u001b[1;33m)\u001b[0m\u001b[1;33m\u001b[0m\u001b[1;33m\u001b[0m\u001b[0m\n\u001b[1;32m----> 8\u001b[1;33m     \u001b[0mrand_cluster_indexes\u001b[0m \u001b[1;33m=\u001b[0m \u001b[1;33m[\u001b[0m\u001b[0mnp\u001b[0m\u001b[1;33m.\u001b[0m\u001b[0mrandom\u001b[0m\u001b[1;33m.\u001b[0m\u001b[0mrandint\u001b[0m\u001b[1;33m(\u001b[0m\u001b[1;36m0\u001b[0m\u001b[1;33m,\u001b[0m\u001b[0mlen\u001b[0m\u001b[1;33m(\u001b[0m\u001b[0mnearest_n\u001b[0m\u001b[1;33m[\u001b[0m\u001b[0mi\u001b[0m\u001b[1;33m]\u001b[0m\u001b[1;33m)\u001b[0m\u001b[1;33m)\u001b[0m \u001b[1;32mfor\u001b[0m \u001b[0mi\u001b[0m \u001b[1;32min\u001b[0m \u001b[0mrange\u001b[0m\u001b[1;33m(\u001b[0m\u001b[0mlen\u001b[0m\u001b[1;33m(\u001b[0m\u001b[0mnearest_n\u001b[0m\u001b[1;33m)\u001b[0m\u001b[1;33m)\u001b[0m\u001b[1;33m]\u001b[0m\u001b[1;33m\u001b[0m\u001b[1;33m\u001b[0m\u001b[0m\n\u001b[0m\u001b[0;32m      9\u001b[0m     \u001b[0mcropped_coords\u001b[0m\u001b[1;33m,\u001b[0m \u001b[0m_\u001b[0m \u001b[1;33m=\u001b[0m \u001b[0mutils\u001b[0m\u001b[1;33m.\u001b[0m\u001b[0mget_nearest_neighbor_points_hold_batch\u001b[0m\u001b[1;33m(\u001b[0m\u001b[0moutput\u001b[0m\u001b[1;33m[\u001b[0m\u001b[1;36m2\u001b[0m\u001b[1;33m]\u001b[0m\u001b[1;33m,\u001b[0m \u001b[0mnearest_n\u001b[0m\u001b[1;33m,\u001b[0m \u001b[0msampled_db_scan\u001b[0m\u001b[1;33m,\u001b[0m \u001b[0mrand_cluster_indexes\u001b[0m\u001b[1;33m)\u001b[0m\u001b[1;33m\u001b[0m\u001b[1;33m\u001b[0m\u001b[0m\n\u001b[0;32m     10\u001b[0m     \u001b[0mcropped_gt_labels\u001b[0m\u001b[1;33m,\u001b[0m \u001b[0m_\u001b[0m \u001b[1;33m=\u001b[0m \u001b[0mutils\u001b[0m\u001b[1;33m.\u001b[0m\u001b[0mget_nearest_neighbor_points_hold_batch\u001b[0m\u001b[1;33m(\u001b[0m\u001b[0mseg_label\u001b[0m\u001b[1;33m,\u001b[0m \u001b[0mnearest_n\u001b[0m\u001b[1;33m,\u001b[0m \u001b[0msampled_db_scan\u001b[0m\u001b[1;33m,\u001b[0m \u001b[0mrand_cluster_indexes\u001b[0m\u001b[1;33m)\u001b[0m\u001b[1;33m\u001b[0m\u001b[1;33m\u001b[0m\u001b[0m\n",
      "\u001b[1;32m<ipython-input-7-188d3a4a2b4e>\u001b[0m in \u001b[0;36m<listcomp>\u001b[1;34m(.0)\u001b[0m\n\u001b[0;32m      6\u001b[0m     \u001b[0msampled_db_scan\u001b[0m \u001b[1;33m=\u001b[0m \u001b[0mutils\u001b[0m\u001b[1;33m.\u001b[0m\u001b[0mdbscan_pc\u001b[0m\u001b[1;33m(\u001b[0m\u001b[0moutput\u001b[0m\u001b[1;33m[\u001b[0m\u001b[1;36m3\u001b[0m\u001b[1;33m]\u001b[0m\u001b[1;33m,\u001b[0m \u001b[0moutput\u001b[0m\u001b[1;33m[\u001b[0m\u001b[1;36m4\u001b[0m\u001b[1;33m]\u001b[0m\u001b[1;33m,\u001b[0m \u001b[0moutput\u001b[0m\u001b[1;33m[\u001b[0m\u001b[1;36m5\u001b[0m\u001b[1;33m]\u001b[0m\u001b[1;33m)\u001b[0m\u001b[1;33m\u001b[0m\u001b[1;33m\u001b[0m\u001b[0m\n\u001b[0;32m      7\u001b[0m     \u001b[0mnearest_n\u001b[0m \u001b[1;33m=\u001b[0m \u001b[0mutils\u001b[0m\u001b[1;33m.\u001b[0m\u001b[0mget_nearest_neighbor_idx\u001b[0m\u001b[1;33m(\u001b[0m\u001b[0moutput\u001b[0m\u001b[1;33m[\u001b[0m\u001b[1;36m2\u001b[0m\u001b[1;33m]\u001b[0m\u001b[1;33m,\u001b[0m \u001b[0msampled_db_scan\u001b[0m\u001b[1;33m,\u001b[0m \u001b[1;36m1024\u001b[0m\u001b[1;33m)\u001b[0m\u001b[1;33m\u001b[0m\u001b[1;33m\u001b[0m\u001b[0m\n\u001b[1;32m----> 8\u001b[1;33m     \u001b[0mrand_cluster_indexes\u001b[0m \u001b[1;33m=\u001b[0m \u001b[1;33m[\u001b[0m\u001b[0mnp\u001b[0m\u001b[1;33m.\u001b[0m\u001b[0mrandom\u001b[0m\u001b[1;33m.\u001b[0m\u001b[0mrandint\u001b[0m\u001b[1;33m(\u001b[0m\u001b[1;36m0\u001b[0m\u001b[1;33m,\u001b[0m\u001b[0mlen\u001b[0m\u001b[1;33m(\u001b[0m\u001b[0mnearest_n\u001b[0m\u001b[1;33m[\u001b[0m\u001b[0mi\u001b[0m\u001b[1;33m]\u001b[0m\u001b[1;33m)\u001b[0m\u001b[1;33m)\u001b[0m \u001b[1;32mfor\u001b[0m \u001b[0mi\u001b[0m \u001b[1;32min\u001b[0m \u001b[0mrange\u001b[0m\u001b[1;33m(\u001b[0m\u001b[0mlen\u001b[0m\u001b[1;33m(\u001b[0m\u001b[0mnearest_n\u001b[0m\u001b[1;33m)\u001b[0m\u001b[1;33m)\u001b[0m\u001b[1;33m]\u001b[0m\u001b[1;33m\u001b[0m\u001b[1;33m\u001b[0m\u001b[0m\n\u001b[0m\u001b[0;32m      9\u001b[0m     \u001b[0mcropped_coords\u001b[0m\u001b[1;33m,\u001b[0m \u001b[0m_\u001b[0m \u001b[1;33m=\u001b[0m \u001b[0mutils\u001b[0m\u001b[1;33m.\u001b[0m\u001b[0mget_nearest_neighbor_points_hold_batch\u001b[0m\u001b[1;33m(\u001b[0m\u001b[0moutput\u001b[0m\u001b[1;33m[\u001b[0m\u001b[1;36m2\u001b[0m\u001b[1;33m]\u001b[0m\u001b[1;33m,\u001b[0m \u001b[0mnearest_n\u001b[0m\u001b[1;33m,\u001b[0m \u001b[0msampled_db_scan\u001b[0m\u001b[1;33m,\u001b[0m \u001b[0mrand_cluster_indexes\u001b[0m\u001b[1;33m)\u001b[0m\u001b[1;33m\u001b[0m\u001b[1;33m\u001b[0m\u001b[0m\n\u001b[0;32m     10\u001b[0m     \u001b[0mcropped_gt_labels\u001b[0m\u001b[1;33m,\u001b[0m \u001b[0m_\u001b[0m \u001b[1;33m=\u001b[0m \u001b[0mutils\u001b[0m\u001b[1;33m.\u001b[0m\u001b[0mget_nearest_neighbor_points_hold_batch\u001b[0m\u001b[1;33m(\u001b[0m\u001b[0mseg_label\u001b[0m\u001b[1;33m,\u001b[0m \u001b[0mnearest_n\u001b[0m\u001b[1;33m,\u001b[0m \u001b[0msampled_db_scan\u001b[0m\u001b[1;33m,\u001b[0m \u001b[0mrand_cluster_indexes\u001b[0m\u001b[1;33m)\u001b[0m\u001b[1;33m\u001b[0m\u001b[1;33m\u001b[0m\u001b[0m\n",
      "\u001b[1;31mNameError\u001b[0m: name 'np' is not defined"
     ]
    }
   ],
   "source": [
    "import torch\n",
    "import models.tsg_utils as utils\n",
    "import importlib\n",
    "#두번째를 랜덤아웃풋\n",
    "for i in range(100):\n",
    "    sampled_db_scan = utils.dbscan_pc(output[3], output[4], output[5])\n",
    "    nearest_n = utils.get_nearest_neighbor_idx(output[2], sampled_db_scan, 1024)\n",
    "    rand_cluster_indexes = [np.random.randint(0,len(nearest_n[i])) for i in range(len(nearest_n))]\n",
    "    cropped_coords, _ = utils.get_nearest_neighbor_points_hold_batch(output[2], nearest_n, sampled_db_scan, rand_cluster_indexes)\n",
    "    cropped_gt_labels, _ = utils.get_nearest_neighbor_points_hold_batch(seg_label, nearest_n, sampled_db_scan, rand_cluster_indexes)\n",
    "    cropped_features, sampled_centroids = utils.get_nearest_neighbor_points_hold_batch(output[0], nearest_n, sampled_db_scan, rand_cluster_indexes)\n",
    "    seg_input = utils.concat_seg_input(cropped_features, cropped_coords, sampled_centroids)\n",
    "    \n",
    "    #테스트\n",
    "    test_cropped = cropped_coords.cpu().detach().numpy()[0].T\n",
    "    o3d.visualization.draw_geometries([np_to_pcd(test_cropped, color=[0,1,0]), np_to_pcd(cen_cpu)], mesh_show_back_face=False,mesh_show_wireframe=True)\n",
    "    test_cropped = cropped_coords.cpu().detach().numpy()[1].T\n",
    "    o3d.visualization.draw_geometries([np_to_pcd(test_cropped, color=[0,1,0]), np_to_pcd(cen_cpu)], mesh_show_back_face=False,mesh_show_wireframe=True)\n"
   ]
  },
  {
   "cell_type": "code",
   "execution_count": 9,
   "id": "758f5394",
   "metadata": {},
   "outputs": [],
   "source": [
    "cropped_coords, _ = utils.get_nearest_neighbor_points_with_centroids(points, nearest_n, sampled_db_scan)"
   ]
  },
  {
   "cell_type": "code",
   "execution_count": 13,
   "id": "c2ae8b05",
   "metadata": {},
   "outputs": [],
   "source": [
    "seg_input = cropped_coords"
   ]
  },
  {
   "cell_type": "code",
   "execution_count": 14,
   "id": "3d8406d3",
   "metadata": {
    "scrolled": true
   },
   "outputs": [
    {
     "name": "stdout",
     "output_type": "stream",
     "text": [
      "torch.Size([16, 2, 1024])\n"
     ]
    }
   ],
   "source": [
    "#두번째 아웃풋\n",
    "with torch.no_grad():\n",
    "    batch_size = 24\n",
    "    for batch_start_idx in range(0, seg_input.shape[0], batch_size):\n",
    "        pred_seg = seg_model(seg_input[batch_start_idx:batch_start_idx+batch_size, :, :])\n",
    "print(pred_seg[0].shape)"
   ]
  },
  {
   "cell_type": "code",
   "execution_count": null,
   "id": "5f9ed1a8",
   "metadata": {},
   "outputs": [],
   "source": []
  },
  {
   "cell_type": "code",
   "execution_count": 13,
   "id": "531f30cf",
   "metadata": {},
   "outputs": [
    {
     "ename": "KeyboardInterrupt",
     "evalue": "",
     "output_type": "error",
     "traceback": [
      "\u001b[1;31m---------------------------------------------------------------------------\u001b[0m",
      "\u001b[1;31mKeyboardInterrupt\u001b[0m                         Traceback (most recent call last)",
      "\u001b[1;32m<ipython-input-13-826eb187487f>\u001b[0m in \u001b[0;36m<module>\u001b[1;34m\u001b[0m\n\u001b[0;32m     10\u001b[0m     \u001b[0mtest_gt_label\u001b[0m \u001b[1;33m=\u001b[0m \u001b[0mtest_gt_label\u001b[0m\u001b[1;33m.\u001b[0m\u001b[0mastype\u001b[0m\u001b[1;33m(\u001b[0m\u001b[0mint\u001b[0m\u001b[1;33m)\u001b[0m\u001b[1;33m\u001b[0m\u001b[1;33m\u001b[0m\u001b[0m\n\u001b[0;32m     11\u001b[0m     \u001b[0mtest_cropped\u001b[0m \u001b[1;33m=\u001b[0m \u001b[0mnp\u001b[0m\u001b[1;33m.\u001b[0m\u001b[0mconcatenate\u001b[0m\u001b[1;33m(\u001b[0m\u001b[1;33m[\u001b[0m\u001b[0mtest_cropped\u001b[0m\u001b[1;33m,\u001b[0m \u001b[0mtest_gt_label\u001b[0m\u001b[1;33m]\u001b[0m\u001b[1;33m,\u001b[0m\u001b[0maxis\u001b[0m\u001b[1;33m=\u001b[0m\u001b[1;36m1\u001b[0m\u001b[1;33m)\u001b[0m\u001b[1;33m\u001b[0m\u001b[1;33m\u001b[0m\u001b[0m\n\u001b[1;32m---> 12\u001b[1;33m     \u001b[0mo3d\u001b[0m\u001b[1;33m.\u001b[0m\u001b[0mvisualization\u001b[0m\u001b[1;33m.\u001b[0m\u001b[0mdraw_geometries\u001b[0m\u001b[1;33m(\u001b[0m\u001b[1;33m[\u001b[0m\u001b[0mnp_to_by_label\u001b[0m\u001b[1;33m(\u001b[0m\u001b[0mtest_cropped\u001b[0m\u001b[1;33m,\u001b[0m \u001b[0maxis\u001b[0m\u001b[1;33m=\u001b[0m\u001b[1;36m3\u001b[0m\u001b[1;33m)\u001b[0m\u001b[1;33m,\u001b[0m \u001b[0mnp_to_pcd\u001b[0m\u001b[1;33m(\u001b[0m\u001b[0mcen_cpu\u001b[0m\u001b[1;33m)\u001b[0m\u001b[1;33m]\u001b[0m\u001b[1;33m,\u001b[0m \u001b[0mmesh_show_back_face\u001b[0m\u001b[1;33m=\u001b[0m\u001b[1;32mFalse\u001b[0m\u001b[1;33m,\u001b[0m\u001b[0mmesh_show_wireframe\u001b[0m\u001b[1;33m=\u001b[0m\u001b[1;32mTrue\u001b[0m\u001b[1;33m)\u001b[0m\u001b[1;33m\u001b[0m\u001b[1;33m\u001b[0m\u001b[0m\n\u001b[0m",
      "\u001b[1;31mKeyboardInterrupt\u001b[0m: "
     ]
    }
   ],
   "source": [
    "def sigmoid(x):\n",
    "    return 1 / (1 +np.exp(-x))\n",
    "#추론 테스트\n",
    "for i in range(15):\n",
    "    test_cropped = cropped_coords.cpu().detach().numpy()[i].T\n",
    "    test_gt_label = pred_seg[2].cpu().detach().numpy()[i].T.reshape(-1,1)\n",
    "    test_gt_label = sigmoid(test_gt_label)\n",
    "    test_gt_label[test_gt_label>0.5] = 1\n",
    "    test_gt_label[test_gt_label<0.5] = 0\n",
    "    test_gt_label = test_gt_label.astype(int)\n",
    "    test_cropped = np.concatenate([test_cropped, test_gt_label],axis=1)\n",
    "    o3d.visualization.draw_geometries([np_to_by_label(test_cropped, axis=3), np_to_pcd(cen_cpu)], mesh_show_back_face=False,mesh_show_wireframe=True)\n"
   ]
  },
  {
   "cell_type": "code",
   "execution_count": 24,
   "id": "56053f45",
   "metadata": {},
   "outputs": [
    {
     "data": {
      "text/plain": [
       "<module 'models.tsg_loss' from 'G:\\\\mesh\\\\tsegnet\\\\models\\\\tsg_loss.py'>"
      ]
     },
     "execution_count": 24,
     "metadata": {},
     "output_type": "execute_result"
    }
   ],
   "source": [
    "import models.tsg_loss as tsg_loss\n",
    "importlib.reload(tsg_loss)"
   ]
  },
  {
   "cell_type": "code",
   "execution_count": 14,
   "id": "d82bc4cd",
   "metadata": {
    "scrolled": true
   },
   "outputs": [
    {
     "data": {
      "text/plain": [
       "tensor(2.0783, device='cuda:0')"
      ]
     },
     "execution_count": 14,
     "metadata": {},
     "output_type": "execute_result"
    }
   ],
   "source": [
    "tsg_loss.id_loss(cropped_gt_labels, pred_seg[3])"
   ]
  },
  {
   "cell_type": "code",
   "execution_count": 15,
   "id": "a75dccf8",
   "metadata": {
    "scrolled": false
   },
   "outputs": [
    {
     "data": {
      "text/plain": [
       "tensor(6.6404, device='cuda:0')"
      ]
     },
     "execution_count": 15,
     "metadata": {},
     "output_type": "execute_result"
    }
   ],
   "source": [
    "tsg_loss.first_seg_loss(pred_seg[0], pred_seg[1],cropped_gt_labels)"
   ]
  },
  {
   "cell_type": "code",
   "execution_count": 16,
   "id": "affbf0fa",
   "metadata": {},
   "outputs": [
    {
     "data": {
      "text/plain": [
       "tensor(18.2075, device='cuda:0')"
      ]
     },
     "execution_count": 16,
     "metadata": {},
     "output_type": "execute_result"
    }
   ],
   "source": [
    "tsg_loss.second_seg_loss(pred_seg[2], pred_seg[1],cropped_gt_labels)"
   ]
  },
  {
   "cell_type": "code",
   "execution_count": 241,
   "id": "69f03cc7",
   "metadata": {
    "scrolled": true
   },
   "outputs": [
    {
     "data": {
      "text/plain": [
       "tensor(0.1347)"
      ]
     },
     "execution_count": 241,
     "metadata": {},
     "output_type": "execute_result"
    }
   ],
   "source": [
    "tsg_loss.distance_loss(distance, xyz, centroid)"
   ]
  },
  {
   "cell_type": "code",
   "execution_count": 14,
   "id": "cee89ee1",
   "metadata": {},
   "outputs": [
    {
     "ename": "NameError",
     "evalue": "name 'offset_xyz' is not defined",
     "output_type": "error",
     "traceback": [
      "\u001b[1;31m---------------------------------------------------------------------------\u001b[0m",
      "\u001b[1;31mNameError\u001b[0m                                 Traceback (most recent call last)",
      "\u001b[1;32m<ipython-input-14-430e6ca561c1>\u001b[0m in \u001b[0;36m<module>\u001b[1;34m\u001b[0m\n\u001b[1;32m----> 1\u001b[1;33m \u001b[0mtsg_loss\u001b[0m\u001b[1;33m.\u001b[0m\u001b[0mcentroid_loss\u001b[0m\u001b[1;33m(\u001b[0m\u001b[0moffset_xyz\u001b[0m\u001b[1;33m,\u001b[0m \u001b[0mxyz\u001b[0m\u001b[1;33m,\u001b[0m \u001b[0mdistance\u001b[0m\u001b[1;33m,\u001b[0m \u001b[0mcentroid\u001b[0m\u001b[1;33m)\u001b[0m\u001b[1;33m\u001b[0m\u001b[1;33m\u001b[0m\u001b[0m\n\u001b[0m",
      "\u001b[1;31mNameError\u001b[0m: name 'offset_xyz' is not defined"
     ]
    }
   ],
   "source": [
    "tsg_loss.centroid_loss(offset_xyz, xyz, distance, centroid)"
   ]
  },
  {
   "cell_type": "code",
   "execution_count": 15,
   "id": "de2c1ae2",
   "metadata": {},
   "outputs": [
    {
     "ename": "NameError",
     "evalue": "name 'offset_xyz' is not defined",
     "output_type": "error",
     "traceback": [
      "\u001b[1;31m---------------------------------------------------------------------------\u001b[0m",
      "\u001b[1;31mNameError\u001b[0m                                 Traceback (most recent call last)",
      "\u001b[1;32m<ipython-input-15-c2651fa7496f>\u001b[0m in \u001b[0;36m<module>\u001b[1;34m\u001b[0m\n\u001b[1;32m----> 1\u001b[1;33m \u001b[0mtsg_loss\u001b[0m\u001b[1;33m.\u001b[0m\u001b[0mchamfer_distance_loss\u001b[0m\u001b[1;33m(\u001b[0m\u001b[0moffset_xyz\u001b[0m\u001b[1;33m,\u001b[0m \u001b[0mxyz\u001b[0m\u001b[1;33m,\u001b[0m \u001b[0mcentroid\u001b[0m\u001b[1;33m)\u001b[0m\u001b[1;33m\u001b[0m\u001b[1;33m\u001b[0m\u001b[0m\n\u001b[0m",
      "\u001b[1;31mNameError\u001b[0m: name 'offset_xyz' is not defined"
     ]
    }
   ],
   "source": [
    "tsg_loss.chamfer_distance_loss(offset_xyz, xyz, centroid)"
   ]
  },
  {
   "cell_type": "code",
   "execution_count": 30,
   "id": "61c847ea",
   "metadata": {},
   "outputs": [],
   "source": [
    "cropped_coord = torch.rand(4,3,2048)\n",
    "pred_centroid = torch.rand(4,3,1)\n",
    "gt_centroids_ids = torch.randint(0,7,(4,1,16))\n",
    "gt_point_labels = torch.randint(0,7,(4,1,2048))\n",
    "gt_centroids = torch.rand(4,3,16)\n"
   ]
  },
  {
   "cell_type": "code",
   "execution_count": null,
   "id": "400d6d88",
   "metadata": {},
   "outputs": [],
   "source": []
  },
  {
   "cell_type": "code",
   "execution_count": 15,
   "id": "807e858a",
   "metadata": {},
   "outputs": [
    {
     "name": "stdout",
     "output_type": "stream",
     "text": [
      "torch.Size([16, 3, 2048])\n",
      "torch.Size([16, 3, 1])\n",
      "torch.Size([16, 1, 2048])\n"
     ]
    }
   ],
   "source": [
    "print(cropped_coord.shape)\n",
    "print(centroid.shape)\n",
    "print(gt_labels.shape)"
   ]
  },
  {
   "cell_type": "code",
   "execution_count": null,
   "id": "9869b282",
   "metadata": {},
   "outputs": [],
   "source": [
    "get_gt_labels_by_gt_centroid"
   ]
  },
  {
   "cell_type": "code",
   "execution_count": null,
   "id": "cdfbb281",
   "metadata": {},
   "outputs": [],
   "source": []
  },
  {
   "cell_type": "code",
   "execution_count": 62,
   "id": "4ae1578a",
   "metadata": {},
   "outputs": [
    {
     "name": "stdout",
     "output_type": "stream",
     "text": [
      "tensor([[ 7],\n",
      "        [ 6],\n",
      "        [12],\n",
      "        [ 0]])\n"
     ]
    },
    {
     "data": {
      "text/plain": [
       "tensor([[2],\n",
       "        [4],\n",
       "        [5],\n",
       "        [6]])"
      ]
     },
     "execution_count": 62,
     "metadata": {},
     "output_type": "execute_result"
    }
   ],
   "source": [
    "import models.tsg_utils as utils\n",
    "import importlib\n",
    "importlib.reload(utils)\n",
    "utils.get_cluster_gt_id_by_nearest_gt_centroid(gt_centroids, gt_centroids_ids, pred_centroid, gt_point_labels)"
   ]
  },
  {
   "cell_type": "code",
   "execution_count": 60,
   "id": "8f3d06c2",
   "metadata": {
    "scrolled": false
   },
   "outputs": [
    {
     "data": {
      "text/plain": [
       "tensor([[ 7],\n",
       "        [ 6],\n",
       "        [12],\n",
       "        [ 0]])"
      ]
     },
     "execution_count": 60,
     "metadata": {},
     "output_type": "execute_result"
    }
   ],
   "source": [
    "importlib.reload(utils)\n",
    "\n",
    "utils.get_cluster_gt_id_by_nearest_gt_centroid(gt_centroids, gt_centroids_ids, pred_centroid, gt_point_labels)"
   ]
  }
 ],
 "metadata": {
  "kernelspec": {
   "display_name": "Python 3",
   "language": "python",
   "name": "python3"
  },
  "language_info": {
   "codemirror_mode": {
    "name": "ipython",
    "version": 3
   },
   "file_extension": ".py",
   "mimetype": "text/x-python",
   "name": "python",
   "nbconvert_exporter": "python",
   "pygments_lexer": "ipython3",
   "version": "3.6.13"
  }
 },
 "nbformat": 4,
 "nbformat_minor": 5
}
