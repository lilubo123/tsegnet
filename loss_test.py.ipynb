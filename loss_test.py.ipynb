{
 "cells": [
  {
   "cell_type": "code",
   "execution_count": 1,
   "id": "08000824",
   "metadata": {},
   "outputs": [],
   "source": [
    "import torch\n",
    "import sys\n",
    "import importlib\n",
    "import models.tsg_loss as tsg_loss\n",
    "import models\n",
    "from models import tsg_centroid_module, tsg_seg_module\n",
    "from models.generator import CenterPointGenerator\n",
    "import os\n",
    "from torch.utils.data import Dataset, DataLoader\n",
    "import numpy as np"
   ]
  },
  {
   "cell_type": "code",
   "execution_count": 2,
   "id": "2fd2e4e4",
   "metadata": {},
   "outputs": [],
   "source": [
    "os.environ[\"CUDA_VISIBLE_DEVICES\"]=\"\""
   ]
  },
  {
   "cell_type": "code",
   "execution_count": 3,
   "id": "7df5fd4c",
   "metadata": {
    "scrolled": true
   },
   "outputs": [
    {
     "data": {
      "text/plain": [
       "get_model(\n",
       "  (sa1_1): PointNetSetAbstractionMsg(\n",
       "    (conv_blocks): ModuleList(\n",
       "      (0): ModuleList(\n",
       "        (0): Conv2d(9, 32, kernel_size=(1, 1), stride=(1, 1))\n",
       "        (1): Conv2d(32, 32, kernel_size=(1, 1), stride=(1, 1))\n",
       "      )\n",
       "      (1): ModuleList(\n",
       "        (0): Conv2d(9, 32, kernel_size=(1, 1), stride=(1, 1))\n",
       "        (1): Conv2d(32, 32, kernel_size=(1, 1), stride=(1, 1))\n",
       "      )\n",
       "    )\n",
       "    (bn_blocks): ModuleList(\n",
       "      (0): ModuleList(\n",
       "        (0): BatchNorm2d(32, eps=1e-05, momentum=0.1, affine=True, track_running_stats=True)\n",
       "        (1): BatchNorm2d(32, eps=1e-05, momentum=0.1, affine=True, track_running_stats=True)\n",
       "      )\n",
       "      (1): ModuleList(\n",
       "        (0): BatchNorm2d(32, eps=1e-05, momentum=0.1, affine=True, track_running_stats=True)\n",
       "        (1): BatchNorm2d(32, eps=1e-05, momentum=0.1, affine=True, track_running_stats=True)\n",
       "      )\n",
       "    )\n",
       "  )\n",
       "  (sa2_1): PointNetSetAbstractionMsg(\n",
       "    (conv_blocks): ModuleList(\n",
       "      (0): ModuleList(\n",
       "        (0): Conv2d(67, 64, kernel_size=(1, 1), stride=(1, 1))\n",
       "        (1): Conv2d(64, 128, kernel_size=(1, 1), stride=(1, 1))\n",
       "      )\n",
       "      (1): ModuleList(\n",
       "        (0): Conv2d(67, 64, kernel_size=(1, 1), stride=(1, 1))\n",
       "        (1): Conv2d(64, 128, kernel_size=(1, 1), stride=(1, 1))\n",
       "      )\n",
       "    )\n",
       "    (bn_blocks): ModuleList(\n",
       "      (0): ModuleList(\n",
       "        (0): BatchNorm2d(64, eps=1e-05, momentum=0.1, affine=True, track_running_stats=True)\n",
       "        (1): BatchNorm2d(128, eps=1e-05, momentum=0.1, affine=True, track_running_stats=True)\n",
       "      )\n",
       "      (1): ModuleList(\n",
       "        (0): BatchNorm2d(64, eps=1e-05, momentum=0.1, affine=True, track_running_stats=True)\n",
       "        (1): BatchNorm2d(128, eps=1e-05, momentum=0.1, affine=True, track_running_stats=True)\n",
       "      )\n",
       "    )\n",
       "  )\n",
       "  (sa3_1): PointNetSetAbstractionMsg(\n",
       "    (conv_blocks): ModuleList(\n",
       "      (0): ModuleList(\n",
       "        (0): Conv2d(259, 196, kernel_size=(1, 1), stride=(1, 1))\n",
       "        (1): Conv2d(196, 256, kernel_size=(1, 1), stride=(1, 1))\n",
       "      )\n",
       "      (1): ModuleList(\n",
       "        (0): Conv2d(259, 196, kernel_size=(1, 1), stride=(1, 1))\n",
       "        (1): Conv2d(196, 256, kernel_size=(1, 1), stride=(1, 1))\n",
       "      )\n",
       "    )\n",
       "    (bn_blocks): ModuleList(\n",
       "      (0): ModuleList(\n",
       "        (0): BatchNorm2d(196, eps=1e-05, momentum=0.1, affine=True, track_running_stats=True)\n",
       "        (1): BatchNorm2d(256, eps=1e-05, momentum=0.1, affine=True, track_running_stats=True)\n",
       "      )\n",
       "      (1): ModuleList(\n",
       "        (0): BatchNorm2d(196, eps=1e-05, momentum=0.1, affine=True, track_running_stats=True)\n",
       "        (1): BatchNorm2d(256, eps=1e-05, momentum=0.1, affine=True, track_running_stats=True)\n",
       "      )\n",
       "    )\n",
       "  )\n",
       "  (fp3_1): PointNetFeaturePropagation(\n",
       "    (mlp_convs): ModuleList(\n",
       "      (0): Conv1d(768, 256, kernel_size=(1,), stride=(1,))\n",
       "      (1): Conv1d(256, 256, kernel_size=(1,), stride=(1,))\n",
       "    )\n",
       "    (mlp_bns): ModuleList(\n",
       "      (0): BatchNorm1d(256, eps=1e-05, momentum=0.1, affine=True, track_running_stats=True)\n",
       "      (1): BatchNorm1d(256, eps=1e-05, momentum=0.1, affine=True, track_running_stats=True)\n",
       "    )\n",
       "  )\n",
       "  (fp2_1): PointNetFeaturePropagation(\n",
       "    (mlp_convs): ModuleList(\n",
       "      (0): Conv1d(320, 128, kernel_size=(1,), stride=(1,))\n",
       "      (1): Conv1d(128, 128, kernel_size=(1,), stride=(1,))\n",
       "    )\n",
       "    (mlp_bns): ModuleList(\n",
       "      (0): BatchNorm1d(128, eps=1e-05, momentum=0.1, affine=True, track_running_stats=True)\n",
       "      (1): BatchNorm1d(128, eps=1e-05, momentum=0.1, affine=True, track_running_stats=True)\n",
       "    )\n",
       "  )\n",
       "  (fp1_1): PointNetFeaturePropagation(\n",
       "    (mlp_convs): ModuleList(\n",
       "      (0): Conv1d(134, 64, kernel_size=(1,), stride=(1,))\n",
       "      (1): Conv1d(64, 32, kernel_size=(1,), stride=(1,))\n",
       "    )\n",
       "    (mlp_bns): ModuleList(\n",
       "      (0): BatchNorm1d(64, eps=1e-05, momentum=0.1, affine=True, track_running_stats=True)\n",
       "      (1): BatchNorm1d(32, eps=1e-05, momentum=0.1, affine=True, track_running_stats=True)\n",
       "    )\n",
       "  )\n",
       "  (pd_mask_1): Conv1d(32, 2, kernel_size=(1,), stride=(1,))\n",
       "  (wt_mask_1): Conv1d(32, 1, kernel_size=(1,), stride=(1,))\n",
       "  (sa1_2): PointNetSetAbstractionMsg(\n",
       "    (conv_blocks): ModuleList(\n",
       "      (0): ModuleList(\n",
       "        (0): Conv2d(37, 32, kernel_size=(1, 1), stride=(1, 1))\n",
       "        (1): Conv2d(32, 32, kernel_size=(1, 1), stride=(1, 1))\n",
       "      )\n",
       "      (1): ModuleList(\n",
       "        (0): Conv2d(37, 32, kernel_size=(1, 1), stride=(1, 1))\n",
       "        (1): Conv2d(32, 32, kernel_size=(1, 1), stride=(1, 1))\n",
       "      )\n",
       "    )\n",
       "    (bn_blocks): ModuleList(\n",
       "      (0): ModuleList(\n",
       "        (0): BatchNorm2d(32, eps=1e-05, momentum=0.1, affine=True, track_running_stats=True)\n",
       "        (1): BatchNorm2d(32, eps=1e-05, momentum=0.1, affine=True, track_running_stats=True)\n",
       "      )\n",
       "      (1): ModuleList(\n",
       "        (0): BatchNorm2d(32, eps=1e-05, momentum=0.1, affine=True, track_running_stats=True)\n",
       "        (1): BatchNorm2d(32, eps=1e-05, momentum=0.1, affine=True, track_running_stats=True)\n",
       "      )\n",
       "    )\n",
       "  )\n",
       "  (sa2_2): PointNetSetAbstractionMsg(\n",
       "    (conv_blocks): ModuleList(\n",
       "      (0): ModuleList(\n",
       "        (0): Conv2d(67, 64, kernel_size=(1, 1), stride=(1, 1))\n",
       "        (1): Conv2d(64, 128, kernel_size=(1, 1), stride=(1, 1))\n",
       "      )\n",
       "      (1): ModuleList(\n",
       "        (0): Conv2d(67, 64, kernel_size=(1, 1), stride=(1, 1))\n",
       "        (1): Conv2d(64, 128, kernel_size=(1, 1), stride=(1, 1))\n",
       "      )\n",
       "    )\n",
       "    (bn_blocks): ModuleList(\n",
       "      (0): ModuleList(\n",
       "        (0): BatchNorm2d(64, eps=1e-05, momentum=0.1, affine=True, track_running_stats=True)\n",
       "        (1): BatchNorm2d(128, eps=1e-05, momentum=0.1, affine=True, track_running_stats=True)\n",
       "      )\n",
       "      (1): ModuleList(\n",
       "        (0): BatchNorm2d(64, eps=1e-05, momentum=0.1, affine=True, track_running_stats=True)\n",
       "        (1): BatchNorm2d(128, eps=1e-05, momentum=0.1, affine=True, track_running_stats=True)\n",
       "      )\n",
       "    )\n",
       "  )\n",
       "  (sa3_2): PointNetSetAbstractionMsg(\n",
       "    (conv_blocks): ModuleList(\n",
       "      (0): ModuleList(\n",
       "        (0): Conv2d(259, 196, kernel_size=(1, 1), stride=(1, 1))\n",
       "        (1): Conv2d(196, 256, kernel_size=(1, 1), stride=(1, 1))\n",
       "      )\n",
       "      (1): ModuleList(\n",
       "        (0): Conv2d(259, 196, kernel_size=(1, 1), stride=(1, 1))\n",
       "        (1): Conv2d(196, 256, kernel_size=(1, 1), stride=(1, 1))\n",
       "      )\n",
       "    )\n",
       "    (bn_blocks): ModuleList(\n",
       "      (0): ModuleList(\n",
       "        (0): BatchNorm2d(196, eps=1e-05, momentum=0.1, affine=True, track_running_stats=True)\n",
       "        (1): BatchNorm2d(256, eps=1e-05, momentum=0.1, affine=True, track_running_stats=True)\n",
       "      )\n",
       "      (1): ModuleList(\n",
       "        (0): BatchNorm2d(196, eps=1e-05, momentum=0.1, affine=True, track_running_stats=True)\n",
       "        (1): BatchNorm2d(256, eps=1e-05, momentum=0.1, affine=True, track_running_stats=True)\n",
       "      )\n",
       "    )\n",
       "  )\n",
       "  (flatten_sa): PointNetSetAbstraction(\n",
       "    (mlp_convs): ModuleList(\n",
       "      (0): Conv2d(515, 256, kernel_size=(1, 1), stride=(1, 1))\n",
       "      (1): Conv2d(256, 512, kernel_size=(1, 1), stride=(1, 1))\n",
       "    )\n",
       "    (mlp_bns): ModuleList(\n",
       "      (0): BatchNorm2d(256, eps=1e-05, momentum=0.1, affine=True, track_running_stats=True)\n",
       "      (1): BatchNorm2d(512, eps=1e-05, momentum=0.1, affine=True, track_running_stats=True)\n",
       "    )\n",
       "  )\n",
       "  (fp3_2): PointNetFeaturePropagation(\n",
       "    (mlp_convs): ModuleList(\n",
       "      (0): Conv1d(768, 256, kernel_size=(1,), stride=(1,))\n",
       "      (1): Conv1d(256, 256, kernel_size=(1,), stride=(1,))\n",
       "    )\n",
       "    (mlp_bns): ModuleList(\n",
       "      (0): BatchNorm1d(256, eps=1e-05, momentum=0.1, affine=True, track_running_stats=True)\n",
       "      (1): BatchNorm1d(256, eps=1e-05, momentum=0.1, affine=True, track_running_stats=True)\n",
       "    )\n",
       "  )\n",
       "  (fp2_2): PointNetFeaturePropagation(\n",
       "    (mlp_convs): ModuleList(\n",
       "      (0): Conv1d(320, 128, kernel_size=(1,), stride=(1,))\n",
       "      (1): Conv1d(128, 128, kernel_size=(1,), stride=(1,))\n",
       "    )\n",
       "    (mlp_bns): ModuleList(\n",
       "      (0): BatchNorm1d(128, eps=1e-05, momentum=0.1, affine=True, track_running_stats=True)\n",
       "      (1): BatchNorm1d(128, eps=1e-05, momentum=0.1, affine=True, track_running_stats=True)\n",
       "    )\n",
       "  )\n",
       "  (fp1_2): PointNetFeaturePropagation(\n",
       "    (mlp_convs): ModuleList(\n",
       "      (0): Conv1d(162, 64, kernel_size=(1,), stride=(1,))\n",
       "      (1): Conv1d(64, 32, kernel_size=(1,), stride=(1,))\n",
       "    )\n",
       "    (mlp_bns): ModuleList(\n",
       "      (0): BatchNorm1d(64, eps=1e-05, momentum=0.1, affine=True, track_running_stats=True)\n",
       "      (1): BatchNorm1d(32, eps=1e-05, momentum=0.1, affine=True, track_running_stats=True)\n",
       "    )\n",
       "  )\n",
       "  (pd_mask_2): Conv1d(32, 1, kernel_size=(1,), stride=(1,))\n",
       "  (fc1): Linear(in_features=512, out_features=256, bias=True)\n",
       "  (bn1): LayerNorm((256,), eps=1e-05, elementwise_affine=True)\n",
       "  (fc2): Linear(in_features=256, out_features=8, bias=True)\n",
       ")"
      ]
     },
     "execution_count": 3,
     "metadata": {},
     "output_type": "execute_result"
    }
   ],
   "source": [
    "centroid_model = models.tsg_centroid_module.get_model()\n",
    "centroid_model.cuda()\n",
    "centroid_model.load_state_dict(torch.load(\"pretrained_centroid_model.h5\"))\n",
    "centroid_model.eval()\n",
    "\n",
    "point_loader = DataLoader(CenterPointGenerator(), batch_size=2)\n",
    "\n",
    "seg_model = tsg_seg_module.get_model()\n",
    "seg_model.load_state_dict(torch.load(\"model_seg\"))\n",
    "seg_model.cuda()\n",
    "seg_model.eval()\n"
   ]
  },
  {
   "cell_type": "code",
   "execution_count": 83,
   "id": "94ee12dc",
   "metadata": {},
   "outputs": [],
   "source": [
    "for item in point_loader:\n",
    "    points = item[0].cuda()\n",
    "    centroids = item[1].cuda()\n",
    "    output = centroid_model(points)\n",
    "    seg_label = item[2].cuda()\n"
   ]
  },
  {
   "cell_type": "code",
   "execution_count": 84,
   "id": "991c7a55",
   "metadata": {},
   "outputs": [],
   "source": [
    "#첫번쨰 아웃풋 cpu\n",
    "output_offset_cpu = output[4].cpu().detach().numpy()[0,:].T\n",
    "output_xyz_cpu = output[3].cpu().detach().numpy()[0,:].T\n",
    "cen_cpu = centroids.cpu().detach().numpy()[0,:].T\n",
    "output_dist_cpu = output[5].cpu().detach().numpy()[0,:].T\n",
    "output_input_xyz_cpu = output[2].cpu().detach().numpy()[0,:].T"
   ]
  },
  {
   "cell_type": "code",
   "execution_count": 85,
   "id": "64fb80a0",
   "metadata": {
    "scrolled": false
   },
   "outputs": [
    {
     "ename": "NameError",
     "evalue": "name 'get_gt_mask_labels' is not defined",
     "output_type": "error",
     "traceback": [
      "\u001b[1;31m---------------------------------------------------------------------------\u001b[0m",
      "\u001b[1;31mNameError\u001b[0m                                 Traceback (most recent call last)",
      "\u001b[1;32m<ipython-input-85-d6e4d1618e89>\u001b[0m in \u001b[0;36m<module>\u001b[1;34m\u001b[0m\n\u001b[0;32m     13\u001b[0m \u001b[1;33m\u001b[0m\u001b[0m\n\u001b[0;32m     14\u001b[0m \u001b[1;32mfor\u001b[0m \u001b[0mi\u001b[0m \u001b[1;32min\u001b[0m \u001b[0mrange\u001b[0m\u001b[1;33m(\u001b[0m\u001b[1;36m15\u001b[0m\u001b[1;33m)\u001b[0m\u001b[1;33m:\u001b[0m\u001b[1;33m\u001b[0m\u001b[1;33m\u001b[0m\u001b[0m\n\u001b[1;32m---> 15\u001b[1;33m     \u001b[0mgt_bin_label\u001b[0m \u001b[1;33m=\u001b[0m \u001b[0mget_gt_mask_labels\u001b[0m\u001b[1;33m(\u001b[0m\u001b[0mpred_seg\u001b[0m\u001b[1;33m[\u001b[0m\u001b[1;36m0\u001b[0m\u001b[1;33m]\u001b[0m\u001b[1;33m,\u001b[0m \u001b[0mpred_seg\u001b[0m\u001b[1;33m[\u001b[0m\u001b[1;36m1\u001b[0m\u001b[1;33m]\u001b[0m\u001b[1;33m,\u001b[0m\u001b[0mcropped_gt_labels\u001b[0m\u001b[1;33m)\u001b[0m\u001b[1;33m\u001b[0m\u001b[1;33m\u001b[0m\u001b[0m\n\u001b[0m\u001b[0;32m     16\u001b[0m     \u001b[0mtest_cropped\u001b[0m \u001b[1;33m=\u001b[0m \u001b[0mcropped_coords\u001b[0m\u001b[1;33m.\u001b[0m\u001b[0mcpu\u001b[0m\u001b[1;33m(\u001b[0m\u001b[1;33m)\u001b[0m\u001b[1;33m.\u001b[0m\u001b[0mdetach\u001b[0m\u001b[1;33m(\u001b[0m\u001b[1;33m)\u001b[0m\u001b[1;33m.\u001b[0m\u001b[0mnumpy\u001b[0m\u001b[1;33m(\u001b[0m\u001b[1;33m)\u001b[0m\u001b[1;33m[\u001b[0m\u001b[0mi\u001b[0m\u001b[1;33m]\u001b[0m\u001b[1;33m.\u001b[0m\u001b[0mT\u001b[0m\u001b[1;33m\u001b[0m\u001b[1;33m\u001b[0m\u001b[0m\n\u001b[0;32m     17\u001b[0m     \u001b[0mtest_gt_label\u001b[0m \u001b[1;33m=\u001b[0m \u001b[0mgt_bin_label\u001b[0m\u001b[1;33m.\u001b[0m\u001b[0mcpu\u001b[0m\u001b[1;33m(\u001b[0m\u001b[1;33m)\u001b[0m\u001b[1;33m.\u001b[0m\u001b[0mdetach\u001b[0m\u001b[1;33m(\u001b[0m\u001b[1;33m)\u001b[0m\u001b[1;33m.\u001b[0m\u001b[0mnumpy\u001b[0m\u001b[1;33m(\u001b[0m\u001b[1;33m)\u001b[0m\u001b[1;33m[\u001b[0m\u001b[0mi\u001b[0m\u001b[1;33m]\u001b[0m\u001b[1;33m.\u001b[0m\u001b[0mT\u001b[0m\u001b[1;33m.\u001b[0m\u001b[0mreshape\u001b[0m\u001b[1;33m(\u001b[0m\u001b[1;33m-\u001b[0m\u001b[1;36m1\u001b[0m\u001b[1;33m,\u001b[0m\u001b[1;36m1\u001b[0m\u001b[1;33m)\u001b[0m\u001b[1;33m\u001b[0m\u001b[1;33m\u001b[0m\u001b[0m\n",
      "\u001b[1;31mNameError\u001b[0m: name 'get_gt_mask_labels' is not defined"
     ]
    }
   ],
   "source": [
    "#이건 크롭 시각화\n",
    "import torch\n",
    "import models.tsg_utils as utils\n",
    "import importlib\n",
    "importlib.reload(utils)\n",
    "\n",
    "#o3d.visualization.draw_geometries([np_to_pcd(output_offset_cpu+output_xyz_cpu, color=[0,1,0]), np_to_pcd(cen_cpu)], mesh_show_back_face=False,mesh_show_wireframe=True)\n",
    "#o3d.visualization.draw_geometries([np_to_pcd(output_xyz_cpu, color=[0,1,0]), np_to_pcd(cen_cpu)], mesh_show_back_face=False,mesh_show_wireframe=True)\n",
    "#o3d.visualization.draw_geometries([np_to_pcd(output_xyz_cpu[output_gt_dist_cpu.reshape(256)<0.02], color=[0,1,0]), np_to_pcd(cen_cpu)], mesh_show_back_face=False,mesh_show_wireframe=True)\n",
    "#o3d.visualization.draw_geometries([np_to_pcd(output_xyz_cpu[output_dist_cpu.reshape(256)<0.02], color=[0,1,0]), np_to_pcd(cen_cpu)], mesh_show_back_face=False,mesh_show_wireframe=True)\n",
    "#sampled_db_scan = utils.dbscan_pc(output[3], output[4], output[5])\n",
    "#o3d.visualization.draw_geometries([np_to_pcd(sampled_db_scan[0], color=[0,1,0]), np_to_pcd(cen_cpu)], mesh_show_back_face=False,mesh_show_wireframe=True)\n",
    "\n",
    "for i in range(15):\n",
    "    gt_bin_label = get_gt_mask_labels(pred_seg[0], pred_seg[1],cropped_gt_labels)\n",
    "    test_cropped = cropped_coords.cpu().detach().numpy()[i].T\n",
    "    test_gt_label = gt_bin_label.cpu().detach().numpy()[i].T.reshape(-1,1)\n",
    "    test_cropped = np.concatenate([test_cropped, test_gt_label],axis=1)\n",
    "\n",
    "    test_cropped_2 = cropped_coords.cpu().detach().numpy()[i].T\n",
    "    test_gt_label_2 = gt_bin_label.cpu().detach().numpy()[i].T.reshape(-1,1)\n",
    "    test_cropped_2 = np.concatenate([test_cropped_2, test_gt_label_2],axis=1)\n",
    "    #o3d.visualization.draw_geometries([np_to_pcd(test_cropped, color=[0,1,0]), np_to_pcd(cen_cpu)], mesh_show_back_face=False,mesh_show_wireframe=True)\n",
    "    o3d.visualization.draw_geometries([np_to_by_label(test_cropped, axis=3), np_to_by_label(test_cropped_2, axis=3),np_to_pcd(cen_cpu)], mesh_show_back_face=False,mesh_show_wireframe=True)\n"
   ]
  },
  {
   "cell_type": "code",
   "execution_count": null,
   "id": "ece574a1",
   "metadata": {},
   "outputs": [],
   "source": []
  },
  {
   "cell_type": "code",
   "execution_count": 16,
   "id": "bdf5f7fa",
   "metadata": {
    "scrolled": true
   },
   "outputs": [],
   "source": [
    "#두번째 아웃풋을 위한 정리\n",
    "import torch\n",
    "import models.tsg_utils as utils\n",
    "import importlib\n",
    "importlib.reload(utils)\n",
    "sampled_db_scan = utils.dbscan_pc(output[3], output[4], output[5])\n",
    "nearest_n = utils.get_nearest_neighbor_idx(output[2], sampled_db_scan, 1024)\n",
    "cropped_coords, _ = utils.get_nearest_neighbor_points_with_centroids(output[2], nearest_n, sampled_db_scan)\n",
    "cropped_gt_labels, _ = utils.get_nearest_neighbor_points_with_centroids(seg_label, nearest_n, sampled_db_scan)\n",
    "cropped_features, sampled_centroids = utils.get_nearest_neighbor_points_with_centroids(output[0], nearest_n, sampled_db_scan)\n",
    "seg_input = utils.concat_seg_input(cropped_features, cropped_coords, sampled_centroids)"
   ]
  },
  {
   "cell_type": "code",
   "execution_count": 79,
   "id": "18c410aa",
   "metadata": {},
   "outputs": [
    {
     "data": {
      "text/plain": [
       "(15, 3)"
      ]
     },
     "execution_count": 79,
     "metadata": {},
     "output_type": "execute_result"
    }
   ],
   "source": [
    "centroids[0].cpu().detach().numpy().T"
   ]
  },
  {
   "cell_type": "code",
   "execution_count": 82,
   "id": "aa17d154",
   "metadata": {},
   "outputs": [
    {
     "data": {
      "text/plain": [
       "[array([0.57430536, 0.2855183 , 0.47671822], dtype=float32),\n",
       " array([0.30624685, 0.36208075, 0.48492628], dtype=float32),\n",
       " array([0.8211819 , 0.73016703, 0.47616848], dtype=float32),\n",
       " array([0.81459004, 0.47073147, 0.45292598], dtype=float32),\n",
       " array([0.20956449, 0.53285533, 0.4886102 ], dtype=float32),\n",
       " array([0.44301438, 0.2812186 , 0.47983015], dtype=float32),\n",
       " array([0.15063447, 0.646658  , 0.4866246 ], dtype=float32),\n",
       " array([0.8132192 , 0.87917423, 0.4900948 ], dtype=float32),\n",
       " array([0.8185133 , 0.59723413, 0.46267468], dtype=float32),\n",
       " array([0.764142  , 0.396976  , 0.47683132], dtype=float32),\n",
       " array([0.1243805 , 0.68938357, 0.48455715], dtype=float32),\n",
       " array([0.70072955, 0.34770587, 0.47784054], dtype=float32),\n",
       " array([0.38049766, 0.3083023 , 0.48709378], dtype=float32),\n",
       " array([0.5105428 , 0.2831457 , 0.47171903], dtype=float32),\n",
       " array([0.25917622, 0.4368513 , 0.4794978 ], dtype=float32),\n",
       " array([0.63389796, 0.30182981, 0.48449236], dtype=float32)]"
      ]
     },
     "execution_count": 82,
     "metadata": {},
     "output_type": "execute_result"
    }
   ],
   "source": [
    "sampled_db_scan[0]"
   ]
  },
  {
   "cell_type": "code",
   "execution_count": 57,
   "id": "0f49e0e1",
   "metadata": {},
   "outputs": [],
   "source": [
    "import models.gen_utils as gen_utils\n",
    "importlib.reload(gen_utils)\n",
    "b = gen_utils.cropped_to_global_label_marker(points[0][:3], pred_seg[2], pred_seg[3], nearest_n[0])"
   ]
  },
  {
   "cell_type": "code",
   "execution_count": 59,
   "id": "e9cdc697",
   "metadata": {},
   "outputs": [
    {
     "data": {
      "text/plain": [
       "8.0"
      ]
     },
     "execution_count": 59,
     "metadata": {},
     "output_type": "execute_result"
    }
   ],
   "source": [
    "np.max(b)"
   ]
  },
  {
   "cell_type": "code",
   "execution_count": 53,
   "id": "63b4bf0f",
   "metadata": {},
   "outputs": [
    {
     "data": {
      "text/plain": [
       "0.0"
      ]
     },
     "execution_count": 53,
     "metadata": {},
     "output_type": "execute_result"
    }
   ],
   "source": [
    "np.max(b[:,3])"
   ]
  },
  {
   "cell_type": "code",
   "execution_count": 24,
   "id": "4ccb9a57",
   "metadata": {},
   "outputs": [
    {
     "data": {
      "text/plain": [
       "torch.Size([16, 8])"
      ]
     },
     "execution_count": 24,
     "metadata": {},
     "output_type": "execute_result"
    }
   ],
   "source": [
    "pred_seg[3].shape"
   ]
  },
  {
   "cell_type": "code",
   "execution_count": 7,
   "id": "579735fd",
   "metadata": {},
   "outputs": [
    {
     "ename": "NameError",
     "evalue": "name 'np' is not defined",
     "output_type": "error",
     "traceback": [
      "\u001b[1;31m---------------------------------------------------------------------------\u001b[0m",
      "\u001b[1;31mNameError\u001b[0m                                 Traceback (most recent call last)",
      "\u001b[1;32m<ipython-input-7-188d3a4a2b4e>\u001b[0m in \u001b[0;36m<module>\u001b[1;34m\u001b[0m\n\u001b[0;32m      6\u001b[0m     \u001b[0msampled_db_scan\u001b[0m \u001b[1;33m=\u001b[0m \u001b[0mutils\u001b[0m\u001b[1;33m.\u001b[0m\u001b[0mdbscan_pc\u001b[0m\u001b[1;33m(\u001b[0m\u001b[0moutput\u001b[0m\u001b[1;33m[\u001b[0m\u001b[1;36m3\u001b[0m\u001b[1;33m]\u001b[0m\u001b[1;33m,\u001b[0m \u001b[0moutput\u001b[0m\u001b[1;33m[\u001b[0m\u001b[1;36m4\u001b[0m\u001b[1;33m]\u001b[0m\u001b[1;33m,\u001b[0m \u001b[0moutput\u001b[0m\u001b[1;33m[\u001b[0m\u001b[1;36m5\u001b[0m\u001b[1;33m]\u001b[0m\u001b[1;33m)\u001b[0m\u001b[1;33m\u001b[0m\u001b[1;33m\u001b[0m\u001b[0m\n\u001b[0;32m      7\u001b[0m     \u001b[0mnearest_n\u001b[0m \u001b[1;33m=\u001b[0m \u001b[0mutils\u001b[0m\u001b[1;33m.\u001b[0m\u001b[0mget_nearest_neighbor_idx\u001b[0m\u001b[1;33m(\u001b[0m\u001b[0moutput\u001b[0m\u001b[1;33m[\u001b[0m\u001b[1;36m2\u001b[0m\u001b[1;33m]\u001b[0m\u001b[1;33m,\u001b[0m \u001b[0msampled_db_scan\u001b[0m\u001b[1;33m,\u001b[0m \u001b[1;36m1024\u001b[0m\u001b[1;33m)\u001b[0m\u001b[1;33m\u001b[0m\u001b[1;33m\u001b[0m\u001b[0m\n\u001b[1;32m----> 8\u001b[1;33m     \u001b[0mrand_cluster_indexes\u001b[0m \u001b[1;33m=\u001b[0m \u001b[1;33m[\u001b[0m\u001b[0mnp\u001b[0m\u001b[1;33m.\u001b[0m\u001b[0mrandom\u001b[0m\u001b[1;33m.\u001b[0m\u001b[0mrandint\u001b[0m\u001b[1;33m(\u001b[0m\u001b[1;36m0\u001b[0m\u001b[1;33m,\u001b[0m\u001b[0mlen\u001b[0m\u001b[1;33m(\u001b[0m\u001b[0mnearest_n\u001b[0m\u001b[1;33m[\u001b[0m\u001b[0mi\u001b[0m\u001b[1;33m]\u001b[0m\u001b[1;33m)\u001b[0m\u001b[1;33m)\u001b[0m \u001b[1;32mfor\u001b[0m \u001b[0mi\u001b[0m \u001b[1;32min\u001b[0m \u001b[0mrange\u001b[0m\u001b[1;33m(\u001b[0m\u001b[0mlen\u001b[0m\u001b[1;33m(\u001b[0m\u001b[0mnearest_n\u001b[0m\u001b[1;33m)\u001b[0m\u001b[1;33m)\u001b[0m\u001b[1;33m]\u001b[0m\u001b[1;33m\u001b[0m\u001b[1;33m\u001b[0m\u001b[0m\n\u001b[0m\u001b[0;32m      9\u001b[0m     \u001b[0mcropped_coords\u001b[0m\u001b[1;33m,\u001b[0m \u001b[0m_\u001b[0m \u001b[1;33m=\u001b[0m \u001b[0mutils\u001b[0m\u001b[1;33m.\u001b[0m\u001b[0mget_nearest_neighbor_points_hold_batch\u001b[0m\u001b[1;33m(\u001b[0m\u001b[0moutput\u001b[0m\u001b[1;33m[\u001b[0m\u001b[1;36m2\u001b[0m\u001b[1;33m]\u001b[0m\u001b[1;33m,\u001b[0m \u001b[0mnearest_n\u001b[0m\u001b[1;33m,\u001b[0m \u001b[0msampled_db_scan\u001b[0m\u001b[1;33m,\u001b[0m \u001b[0mrand_cluster_indexes\u001b[0m\u001b[1;33m)\u001b[0m\u001b[1;33m\u001b[0m\u001b[1;33m\u001b[0m\u001b[0m\n\u001b[0;32m     10\u001b[0m     \u001b[0mcropped_gt_labels\u001b[0m\u001b[1;33m,\u001b[0m \u001b[0m_\u001b[0m \u001b[1;33m=\u001b[0m \u001b[0mutils\u001b[0m\u001b[1;33m.\u001b[0m\u001b[0mget_nearest_neighbor_points_hold_batch\u001b[0m\u001b[1;33m(\u001b[0m\u001b[0mseg_label\u001b[0m\u001b[1;33m,\u001b[0m \u001b[0mnearest_n\u001b[0m\u001b[1;33m,\u001b[0m \u001b[0msampled_db_scan\u001b[0m\u001b[1;33m,\u001b[0m \u001b[0mrand_cluster_indexes\u001b[0m\u001b[1;33m)\u001b[0m\u001b[1;33m\u001b[0m\u001b[1;33m\u001b[0m\u001b[0m\n",
      "\u001b[1;32m<ipython-input-7-188d3a4a2b4e>\u001b[0m in \u001b[0;36m<listcomp>\u001b[1;34m(.0)\u001b[0m\n\u001b[0;32m      6\u001b[0m     \u001b[0msampled_db_scan\u001b[0m \u001b[1;33m=\u001b[0m \u001b[0mutils\u001b[0m\u001b[1;33m.\u001b[0m\u001b[0mdbscan_pc\u001b[0m\u001b[1;33m(\u001b[0m\u001b[0moutput\u001b[0m\u001b[1;33m[\u001b[0m\u001b[1;36m3\u001b[0m\u001b[1;33m]\u001b[0m\u001b[1;33m,\u001b[0m \u001b[0moutput\u001b[0m\u001b[1;33m[\u001b[0m\u001b[1;36m4\u001b[0m\u001b[1;33m]\u001b[0m\u001b[1;33m,\u001b[0m \u001b[0moutput\u001b[0m\u001b[1;33m[\u001b[0m\u001b[1;36m5\u001b[0m\u001b[1;33m]\u001b[0m\u001b[1;33m)\u001b[0m\u001b[1;33m\u001b[0m\u001b[1;33m\u001b[0m\u001b[0m\n\u001b[0;32m      7\u001b[0m     \u001b[0mnearest_n\u001b[0m \u001b[1;33m=\u001b[0m \u001b[0mutils\u001b[0m\u001b[1;33m.\u001b[0m\u001b[0mget_nearest_neighbor_idx\u001b[0m\u001b[1;33m(\u001b[0m\u001b[0moutput\u001b[0m\u001b[1;33m[\u001b[0m\u001b[1;36m2\u001b[0m\u001b[1;33m]\u001b[0m\u001b[1;33m,\u001b[0m \u001b[0msampled_db_scan\u001b[0m\u001b[1;33m,\u001b[0m \u001b[1;36m1024\u001b[0m\u001b[1;33m)\u001b[0m\u001b[1;33m\u001b[0m\u001b[1;33m\u001b[0m\u001b[0m\n\u001b[1;32m----> 8\u001b[1;33m     \u001b[0mrand_cluster_indexes\u001b[0m \u001b[1;33m=\u001b[0m \u001b[1;33m[\u001b[0m\u001b[0mnp\u001b[0m\u001b[1;33m.\u001b[0m\u001b[0mrandom\u001b[0m\u001b[1;33m.\u001b[0m\u001b[0mrandint\u001b[0m\u001b[1;33m(\u001b[0m\u001b[1;36m0\u001b[0m\u001b[1;33m,\u001b[0m\u001b[0mlen\u001b[0m\u001b[1;33m(\u001b[0m\u001b[0mnearest_n\u001b[0m\u001b[1;33m[\u001b[0m\u001b[0mi\u001b[0m\u001b[1;33m]\u001b[0m\u001b[1;33m)\u001b[0m\u001b[1;33m)\u001b[0m \u001b[1;32mfor\u001b[0m \u001b[0mi\u001b[0m \u001b[1;32min\u001b[0m \u001b[0mrange\u001b[0m\u001b[1;33m(\u001b[0m\u001b[0mlen\u001b[0m\u001b[1;33m(\u001b[0m\u001b[0mnearest_n\u001b[0m\u001b[1;33m)\u001b[0m\u001b[1;33m)\u001b[0m\u001b[1;33m]\u001b[0m\u001b[1;33m\u001b[0m\u001b[1;33m\u001b[0m\u001b[0m\n\u001b[0m\u001b[0;32m      9\u001b[0m     \u001b[0mcropped_coords\u001b[0m\u001b[1;33m,\u001b[0m \u001b[0m_\u001b[0m \u001b[1;33m=\u001b[0m \u001b[0mutils\u001b[0m\u001b[1;33m.\u001b[0m\u001b[0mget_nearest_neighbor_points_hold_batch\u001b[0m\u001b[1;33m(\u001b[0m\u001b[0moutput\u001b[0m\u001b[1;33m[\u001b[0m\u001b[1;36m2\u001b[0m\u001b[1;33m]\u001b[0m\u001b[1;33m,\u001b[0m \u001b[0mnearest_n\u001b[0m\u001b[1;33m,\u001b[0m \u001b[0msampled_db_scan\u001b[0m\u001b[1;33m,\u001b[0m \u001b[0mrand_cluster_indexes\u001b[0m\u001b[1;33m)\u001b[0m\u001b[1;33m\u001b[0m\u001b[1;33m\u001b[0m\u001b[0m\n\u001b[0;32m     10\u001b[0m     \u001b[0mcropped_gt_labels\u001b[0m\u001b[1;33m,\u001b[0m \u001b[0m_\u001b[0m \u001b[1;33m=\u001b[0m \u001b[0mutils\u001b[0m\u001b[1;33m.\u001b[0m\u001b[0mget_nearest_neighbor_points_hold_batch\u001b[0m\u001b[1;33m(\u001b[0m\u001b[0mseg_label\u001b[0m\u001b[1;33m,\u001b[0m \u001b[0mnearest_n\u001b[0m\u001b[1;33m,\u001b[0m \u001b[0msampled_db_scan\u001b[0m\u001b[1;33m,\u001b[0m \u001b[0mrand_cluster_indexes\u001b[0m\u001b[1;33m)\u001b[0m\u001b[1;33m\u001b[0m\u001b[1;33m\u001b[0m\u001b[0m\n",
      "\u001b[1;31mNameError\u001b[0m: name 'np' is not defined"
     ]
    }
   ],
   "source": [
    "import torch\n",
    "import models.tsg_utils as utils\n",
    "import importlib\n",
    "#두번째를 랜덤아웃풋\n",
    "for i in range(100):\n",
    "    sampled_db_scan = utils.dbscan_pc(output[3], output[4], output[5])\n",
    "    nearest_n = utils.get_nearest_neighbor_idx(output[2], sampled_db_scan, 1024)\n",
    "    rand_cluster_indexes = [np.random.randint(0,len(nearest_n[i])) for i in range(len(nearest_n))]\n",
    "    cropped_coords, _ = utils.get_nearest_neighbor_points_hold_batch(output[2], nearest_n, sampled_db_scan, rand_cluster_indexes)\n",
    "    cropped_gt_labels, _ = utils.get_nearest_neighbor_points_hold_batch(seg_label, nearest_n, sampled_db_scan, rand_cluster_indexes)\n",
    "    cropped_features, sampled_centroids = utils.get_nearest_neighbor_points_hold_batch(output[0], nearest_n, sampled_db_scan, rand_cluster_indexes)\n",
    "    seg_input = utils.concat_seg_input(cropped_features, cropped_coords, sampled_centroids)\n",
    "    \n",
    "    #테스트\n",
    "    test_cropped = cropped_coords.cpu().detach().numpy()[0].T\n",
    "    o3d.visualization.draw_geometries([np_to_pcd(test_cropped, color=[0,1,0]), np_to_pcd(cen_cpu)], mesh_show_back_face=False,mesh_show_wireframe=True)\n",
    "    test_cropped = cropped_coords.cpu().detach().numpy()[1].T\n",
    "    o3d.visualization.draw_geometries([np_to_pcd(test_cropped, color=[0,1,0]), np_to_pcd(cen_cpu)], mesh_show_back_face=False,mesh_show_wireframe=True)\n"
   ]
  },
  {
   "cell_type": "code",
   "execution_count": 9,
   "id": "758f5394",
   "metadata": {},
   "outputs": [],
   "source": [
    "cropped_coords, _ = utils.get_nearest_neighbor_points_with_centroids(points, nearest_n, sampled_db_scan)"
   ]
  },
  {
   "cell_type": "code",
   "execution_count": 13,
   "id": "c2ae8b05",
   "metadata": {},
   "outputs": [],
   "source": [
    "seg_input = cropped_coords"
   ]
  },
  {
   "cell_type": "code",
   "execution_count": 14,
   "id": "3d8406d3",
   "metadata": {
    "scrolled": true
   },
   "outputs": [
    {
     "name": "stdout",
     "output_type": "stream",
     "text": [
      "torch.Size([16, 2, 1024])\n"
     ]
    }
   ],
   "source": [
    "#두번째 아웃풋\n",
    "with torch.no_grad():\n",
    "    batch_size = 24\n",
    "    for batch_start_idx in range(0, seg_input.shape[0], batch_size):\n",
    "        pred_seg = seg_model(seg_input[batch_start_idx:batch_start_idx+batch_size, :, :])\n",
    "print(pred_seg[0].shape)"
   ]
  },
  {
   "cell_type": "code",
   "execution_count": null,
   "id": "5f9ed1a8",
   "metadata": {},
   "outputs": [],
   "source": []
  },
  {
   "cell_type": "code",
   "execution_count": 13,
   "id": "531f30cf",
   "metadata": {},
   "outputs": [
    {
     "ename": "KeyboardInterrupt",
     "evalue": "",
     "output_type": "error",
     "traceback": [
      "\u001b[1;31m---------------------------------------------------------------------------\u001b[0m",
      "\u001b[1;31mKeyboardInterrupt\u001b[0m                         Traceback (most recent call last)",
      "\u001b[1;32m<ipython-input-13-826eb187487f>\u001b[0m in \u001b[0;36m<module>\u001b[1;34m\u001b[0m\n\u001b[0;32m     10\u001b[0m     \u001b[0mtest_gt_label\u001b[0m \u001b[1;33m=\u001b[0m \u001b[0mtest_gt_label\u001b[0m\u001b[1;33m.\u001b[0m\u001b[0mastype\u001b[0m\u001b[1;33m(\u001b[0m\u001b[0mint\u001b[0m\u001b[1;33m)\u001b[0m\u001b[1;33m\u001b[0m\u001b[1;33m\u001b[0m\u001b[0m\n\u001b[0;32m     11\u001b[0m     \u001b[0mtest_cropped\u001b[0m \u001b[1;33m=\u001b[0m \u001b[0mnp\u001b[0m\u001b[1;33m.\u001b[0m\u001b[0mconcatenate\u001b[0m\u001b[1;33m(\u001b[0m\u001b[1;33m[\u001b[0m\u001b[0mtest_cropped\u001b[0m\u001b[1;33m,\u001b[0m \u001b[0mtest_gt_label\u001b[0m\u001b[1;33m]\u001b[0m\u001b[1;33m,\u001b[0m\u001b[0maxis\u001b[0m\u001b[1;33m=\u001b[0m\u001b[1;36m1\u001b[0m\u001b[1;33m)\u001b[0m\u001b[1;33m\u001b[0m\u001b[1;33m\u001b[0m\u001b[0m\n\u001b[1;32m---> 12\u001b[1;33m     \u001b[0mo3d\u001b[0m\u001b[1;33m.\u001b[0m\u001b[0mvisualization\u001b[0m\u001b[1;33m.\u001b[0m\u001b[0mdraw_geometries\u001b[0m\u001b[1;33m(\u001b[0m\u001b[1;33m[\u001b[0m\u001b[0mnp_to_by_label\u001b[0m\u001b[1;33m(\u001b[0m\u001b[0mtest_cropped\u001b[0m\u001b[1;33m,\u001b[0m \u001b[0maxis\u001b[0m\u001b[1;33m=\u001b[0m\u001b[1;36m3\u001b[0m\u001b[1;33m)\u001b[0m\u001b[1;33m,\u001b[0m \u001b[0mnp_to_pcd\u001b[0m\u001b[1;33m(\u001b[0m\u001b[0mcen_cpu\u001b[0m\u001b[1;33m)\u001b[0m\u001b[1;33m]\u001b[0m\u001b[1;33m,\u001b[0m \u001b[0mmesh_show_back_face\u001b[0m\u001b[1;33m=\u001b[0m\u001b[1;32mFalse\u001b[0m\u001b[1;33m,\u001b[0m\u001b[0mmesh_show_wireframe\u001b[0m\u001b[1;33m=\u001b[0m\u001b[1;32mTrue\u001b[0m\u001b[1;33m)\u001b[0m\u001b[1;33m\u001b[0m\u001b[1;33m\u001b[0m\u001b[0m\n\u001b[0m",
      "\u001b[1;31mKeyboardInterrupt\u001b[0m: "
     ]
    }
   ],
   "source": [
    "def sigmoid(x):\n",
    "    return 1 / (1 +np.exp(-x))\n",
    "#추론 테스트\n",
    "for i in range(15):\n",
    "    test_cropped = cropped_coords.cpu().detach().numpy()[i].T\n",
    "    test_gt_label = pred_seg[2].cpu().detach().numpy()[i].T.reshape(-1,1)\n",
    "    test_gt_label = sigmoid(test_gt_label)\n",
    "    test_gt_label[test_gt_label>0.5] = 1\n",
    "    test_gt_label[test_gt_label<0.5] = 0\n",
    "    test_gt_label = test_gt_label.astype(int)\n",
    "    test_cropped = np.concatenate([test_cropped, test_gt_label],axis=1)\n",
    "    o3d.visualization.draw_geometries([np_to_by_label(test_cropped, axis=3), np_to_pcd(cen_cpu)], mesh_show_back_face=False,mesh_show_wireframe=True)\n"
   ]
  },
  {
   "cell_type": "code",
   "execution_count": 24,
   "id": "56053f45",
   "metadata": {},
   "outputs": [
    {
     "data": {
      "text/plain": [
       "<module 'models.tsg_loss' from 'G:\\\\mesh\\\\tsegnet\\\\models\\\\tsg_loss.py'>"
      ]
     },
     "execution_count": 24,
     "metadata": {},
     "output_type": "execute_result"
    }
   ],
   "source": [
    "import models.tsg_loss as tsg_loss\n",
    "importlib.reload(tsg_loss)"
   ]
  },
  {
   "cell_type": "code",
   "execution_count": 14,
   "id": "d82bc4cd",
   "metadata": {
    "scrolled": true
   },
   "outputs": [
    {
     "data": {
      "text/plain": [
       "tensor(2.0783, device='cuda:0')"
      ]
     },
     "execution_count": 14,
     "metadata": {},
     "output_type": "execute_result"
    }
   ],
   "source": [
    "tsg_loss.id_loss(cropped_gt_labels, pred_seg[3])"
   ]
  },
  {
   "cell_type": "code",
   "execution_count": 15,
   "id": "a75dccf8",
   "metadata": {
    "scrolled": false
   },
   "outputs": [
    {
     "data": {
      "text/plain": [
       "tensor(6.6404, device='cuda:0')"
      ]
     },
     "execution_count": 15,
     "metadata": {},
     "output_type": "execute_result"
    }
   ],
   "source": [
    "tsg_loss.first_seg_loss(pred_seg[0], pred_seg[1],cropped_gt_labels)"
   ]
  },
  {
   "cell_type": "code",
   "execution_count": 16,
   "id": "affbf0fa",
   "metadata": {},
   "outputs": [
    {
     "data": {
      "text/plain": [
       "tensor(18.2075, device='cuda:0')"
      ]
     },
     "execution_count": 16,
     "metadata": {},
     "output_type": "execute_result"
    }
   ],
   "source": [
    "tsg_loss.second_seg_loss(pred_seg[2], pred_seg[1],cropped_gt_labels)"
   ]
  },
  {
   "cell_type": "code",
   "execution_count": 241,
   "id": "69f03cc7",
   "metadata": {
    "scrolled": true
   },
   "outputs": [
    {
     "data": {
      "text/plain": [
       "tensor(0.1347)"
      ]
     },
     "execution_count": 241,
     "metadata": {},
     "output_type": "execute_result"
    }
   ],
   "source": [
    "tsg_loss.distance_loss(distance, xyz, centroid)"
   ]
  },
  {
   "cell_type": "code",
   "execution_count": 14,
   "id": "cee89ee1",
   "metadata": {},
   "outputs": [
    {
     "ename": "NameError",
     "evalue": "name 'offset_xyz' is not defined",
     "output_type": "error",
     "traceback": [
      "\u001b[1;31m---------------------------------------------------------------------------\u001b[0m",
      "\u001b[1;31mNameError\u001b[0m                                 Traceback (most recent call last)",
      "\u001b[1;32m<ipython-input-14-430e6ca561c1>\u001b[0m in \u001b[0;36m<module>\u001b[1;34m\u001b[0m\n\u001b[1;32m----> 1\u001b[1;33m \u001b[0mtsg_loss\u001b[0m\u001b[1;33m.\u001b[0m\u001b[0mcentroid_loss\u001b[0m\u001b[1;33m(\u001b[0m\u001b[0moffset_xyz\u001b[0m\u001b[1;33m,\u001b[0m \u001b[0mxyz\u001b[0m\u001b[1;33m,\u001b[0m \u001b[0mdistance\u001b[0m\u001b[1;33m,\u001b[0m \u001b[0mcentroid\u001b[0m\u001b[1;33m)\u001b[0m\u001b[1;33m\u001b[0m\u001b[1;33m\u001b[0m\u001b[0m\n\u001b[0m",
      "\u001b[1;31mNameError\u001b[0m: name 'offset_xyz' is not defined"
     ]
    }
   ],
   "source": [
    "tsg_loss.centroid_loss(offset_xyz, xyz, distance, centroid)"
   ]
  },
  {
   "cell_type": "code",
   "execution_count": 15,
   "id": "de2c1ae2",
   "metadata": {},
   "outputs": [
    {
     "ename": "NameError",
     "evalue": "name 'offset_xyz' is not defined",
     "output_type": "error",
     "traceback": [
      "\u001b[1;31m---------------------------------------------------------------------------\u001b[0m",
      "\u001b[1;31mNameError\u001b[0m                                 Traceback (most recent call last)",
      "\u001b[1;32m<ipython-input-15-c2651fa7496f>\u001b[0m in \u001b[0;36m<module>\u001b[1;34m\u001b[0m\n\u001b[1;32m----> 1\u001b[1;33m \u001b[0mtsg_loss\u001b[0m\u001b[1;33m.\u001b[0m\u001b[0mchamfer_distance_loss\u001b[0m\u001b[1;33m(\u001b[0m\u001b[0moffset_xyz\u001b[0m\u001b[1;33m,\u001b[0m \u001b[0mxyz\u001b[0m\u001b[1;33m,\u001b[0m \u001b[0mcentroid\u001b[0m\u001b[1;33m)\u001b[0m\u001b[1;33m\u001b[0m\u001b[1;33m\u001b[0m\u001b[0m\n\u001b[0m",
      "\u001b[1;31mNameError\u001b[0m: name 'offset_xyz' is not defined"
     ]
    }
   ],
   "source": [
    "tsg_loss.chamfer_distance_loss(offset_xyz, xyz, centroid)"
   ]
  },
  {
   "cell_type": "code",
   "execution_count": 4,
   "id": "61c847ea",
   "metadata": {},
   "outputs": [],
   "source": [
    "cropped_coord = torch.rand(4,3,2048)\n",
    "pred_centroid = torch.rand(4,3,1)\n",
    "gt_centroids_ids = torch.randint(0,7,(4,1,16))\n",
    "gt_point_labels = torch.randint(0,7,(4,1,2048))\n",
    "gt_centroids = torch.rand(4,3,16)\n"
   ]
  },
  {
   "cell_type": "code",
   "execution_count": 63,
   "id": "f176b342",
   "metadata": {},
   "outputs": [],
   "source": [
    "test = torch.rand(4,8,3,2048)"
   ]
  },
  {
   "cell_type": "code",
   "execution_count": 70,
   "id": "e410a471",
   "metadata": {},
   "outputs": [
    {
     "ename": "RuntimeError",
     "evalue": "The size of tensor a (8) must match the size of tensor b (4) at non-singleton dimension 1",
     "output_type": "error",
     "traceback": [
      "\u001b[1;31m---------------------------------------------------------------------------\u001b[0m",
      "\u001b[1;31mRuntimeError\u001b[0m                              Traceback (most recent call last)",
      "\u001b[1;32m<ipython-input-70-2d49b8291508>\u001b[0m in \u001b[0;36m<module>\u001b[1;34m\u001b[0m\n\u001b[1;32m----> 1\u001b[1;33m \u001b[1;33m(\u001b[0m\u001b[0mtest\u001b[0m \u001b[1;33m+\u001b[0m \u001b[0mtest_tt\u001b[0m\u001b[1;33m)\u001b[0m\u001b[1;33m.\u001b[0m\u001b[0mshape\u001b[0m\u001b[1;33m\u001b[0m\u001b[1;33m\u001b[0m\u001b[0m\n\u001b[0m",
      "\u001b[1;31mRuntimeError\u001b[0m: The size of tensor a (8) must match the size of tensor b (4) at non-singleton dimension 1"
     ]
    }
   ],
   "source": [
    "(test + test_tt).shape"
   ]
  },
  {
   "cell_type": "code",
   "execution_count": 71,
   "id": "0575c909",
   "metadata": {},
   "outputs": [],
   "source": [
    "test_tt = torch.rand(4,1, 3,2048)"
   ]
  },
  {
   "cell_type": "code",
   "execution_count": 91,
   "id": "21a1996e",
   "metadata": {},
   "outputs": [],
   "source": [
    "test_tt = torch.rand(4, 2,2048).min(dim=1)[1]"
   ]
  },
  {
   "cell_type": "code",
   "execution_count": 93,
   "id": "009aec48",
   "metadata": {},
   "outputs": [
    {
     "data": {
      "text/plain": [
       "tensor(4121)"
      ]
     },
     "execution_count": 93,
     "metadata": {},
     "output_type": "execute_result"
    }
   ],
   "source": [
    "torch.sum(test_tt)"
   ]
  },
  {
   "cell_type": "code",
   "execution_count": 76,
   "id": "6293c85b",
   "metadata": {},
   "outputs": [
    {
     "name": "stdout",
     "output_type": "stream",
     "text": [
      "[[1 2 3]\n",
      " [4 5 6]]\n",
      "(2, 3)\n"
     ]
    }
   ],
   "source": [
    "a = np.array([[1,2,3],[4,5,6]])\n",
    "print(a)\n",
    "print(a.shape)"
   ]
  },
  {
   "cell_type": "code",
   "execution_count": 81,
   "id": "d8a0b9a8",
   "metadata": {},
   "outputs": [
    {
     "name": "stdout",
     "output_type": "stream",
     "text": [
      "[[5 5 5]]\n",
      "(1, 3)\n"
     ]
    }
   ],
   "source": [
    "b = np.array([[5,5,5]])\n",
    "print(b)\n",
    "print(b.shape)"
   ]
  },
  {
   "cell_type": "code",
   "execution_count": 80,
   "id": "aef53926",
   "metadata": {},
   "outputs": [
    {
     "data": {
      "text/plain": [
       "array([[ 6,  7,  8],\n",
       "       [ 9, 10, 11]])"
      ]
     },
     "execution_count": 80,
     "metadata": {},
     "output_type": "execute_result"
    }
   ],
   "source": [
    "a+b"
   ]
  },
  {
   "cell_type": "code",
   "execution_count": 47,
   "id": "400d6d88",
   "metadata": {},
   "outputs": [],
   "source": [
    "test = test.max(dim=2)[0]"
   ]
  },
  {
   "cell_type": "code",
   "execution_count": 49,
   "id": "849fe8e2",
   "metadata": {
    "scrolled": true
   },
   "outputs": [
    {
     "data": {
      "text/plain": [
       "torch.Size([4, 8, 16])"
      ]
     },
     "execution_count": 49,
     "metadata": {},
     "output_type": "execute_result"
    }
   ],
   "source": [
    "test.shape"
   ]
  },
  {
   "cell_type": "code",
   "execution_count": 54,
   "id": "cdfbb281",
   "metadata": {
    "scrolled": true
   },
   "outputs": [
    {
     "data": {
      "text/plain": [
       "torch.Size([4, 8, 16])"
      ]
     },
     "execution_count": 54,
     "metadata": {},
     "output_type": "execute_result"
    }
   ],
   "source": [
    "torch.nn.functional.smooth_l1_loss(test,test, reduction='none').shape"
   ]
  },
  {
   "cell_type": "code",
   "execution_count": 57,
   "id": "ffe8067f",
   "metadata": {},
   "outputs": [],
   "source": [
    "test_tt = torch.rand(4,8,2,1)"
   ]
  },
  {
   "cell_type": "code",
   "execution_count": 58,
   "id": "86adc9db",
   "metadata": {
    "scrolled": true
   },
   "outputs": [
    {
     "data": {
      "text/plain": [
       "tensor([[[[1.2729, 0.6645, 0.9892,  ..., 0.8021, 0.6510, 0.9203],\n",
       "          [0.6358, 1.1128, 1.1635,  ..., 0.7849, 0.6989, 1.3714]],\n",
       "\n",
       "         [[0.3259, 0.7485, 0.8184,  ..., 0.6446, 1.2563, 0.3431],\n",
       "          [1.3437, 1.3768, 0.6796,  ..., 1.5759, 0.8211, 0.7183]],\n",
       "\n",
       "         [[0.6351, 0.7897, 1.3373,  ..., 1.1304, 1.2380, 1.0015],\n",
       "          [1.6089, 1.8442, 1.8020,  ..., 1.7168, 1.3855, 1.4299]],\n",
       "\n",
       "         ...,\n",
       "\n",
       "         [[0.3560, 0.6414, 0.6380,  ..., 0.2264, 0.5644, 0.6045],\n",
       "          [1.5448, 1.1718, 1.2556,  ..., 1.1649, 1.5193, 1.1950]],\n",
       "\n",
       "         [[1.1942, 1.3786, 1.7207,  ..., 0.9562, 1.0920, 1.3098],\n",
       "          [0.9305, 1.3521, 1.1980,  ..., 0.6621, 1.2718, 0.6074]],\n",
       "\n",
       "         [[1.0234, 0.3031, 0.6626,  ..., 0.5718, 0.3699, 0.1969],\n",
       "          [1.2610, 1.9084, 1.4566,  ..., 1.1806, 1.5541, 1.1958]]],\n",
       "\n",
       "\n",
       "        [[[0.8619, 0.2748, 0.4895,  ..., 0.3186, 0.3764, 0.7823],\n",
       "          [0.8243, 0.4515, 1.0718,  ..., 0.6677, 1.3076, 1.1222]],\n",
       "\n",
       "         [[1.1553, 1.2519, 1.1542,  ..., 1.2262, 1.0035, 0.8138],\n",
       "          [0.9383, 0.7233, 1.3492,  ..., 1.0639, 0.6601, 0.9259]],\n",
       "\n",
       "         [[1.2924, 1.1347, 1.2041,  ..., 1.3939, 1.2653, 0.8067],\n",
       "          [1.3790, 0.7269, 0.9887,  ..., 1.2296, 1.4023, 0.7012]],\n",
       "\n",
       "         ...,\n",
       "\n",
       "         [[0.7357, 0.9538, 0.8027,  ..., 0.0817, 0.2621, 0.4311],\n",
       "          [0.1581, 0.5637, 0.2614,  ..., 0.8849, 0.8323, 0.5857]],\n",
       "\n",
       "         [[0.4006, 0.0754, 0.6620,  ..., 0.5114, 0.3103, 0.2691],\n",
       "          [0.5603, 0.6345, 0.5205,  ..., 0.2047, 1.0508, 0.6901]],\n",
       "\n",
       "         [[0.4733, 0.7439, 0.9474,  ..., 0.7863, 0.3039, 0.3573],\n",
       "          [0.9172, 0.7064, 1.3539,  ..., 1.0532, 0.8917, 1.1812]]],\n",
       "\n",
       "\n",
       "        [[[0.5735, 0.7972, 0.9042,  ..., 1.2505, 1.0951, 1.0319],\n",
       "          [1.4624, 1.3624, 0.9668,  ..., 1.1261, 1.5017, 1.6661]],\n",
       "\n",
       "         [[0.8018, 0.1888, 0.8897,  ..., 0.8722, 0.8482, 0.1249],\n",
       "          [1.1971, 1.1014, 1.1705,  ..., 1.6882, 1.0332, 1.5472]],\n",
       "\n",
       "         [[1.5943, 1.4303, 1.9624,  ..., 1.8449, 1.8750, 1.6388],\n",
       "          [1.3451, 0.8961, 1.3450,  ..., 1.5082, 1.3537, 0.8849]],\n",
       "\n",
       "         ...,\n",
       "\n",
       "         [[0.6563, 0.6254, 0.8596,  ..., 0.5464, 1.2211, 0.3911],\n",
       "          [0.5373, 0.2680, 0.2004,  ..., 0.6403, 0.2500, 0.5589]],\n",
       "\n",
       "         [[0.4209, 0.5084, 0.4463,  ..., 0.9322, 0.2790, 0.6720],\n",
       "          [0.6376, 0.6525, 1.2023,  ..., 0.8672, 1.3640, 0.9960]],\n",
       "\n",
       "         [[1.1103, 1.0153, 0.8418,  ..., 0.3328, 0.8788, 0.4782],\n",
       "          [1.5817, 1.4889, 0.9782,  ..., 1.3954, 1.2768, 1.5022]]],\n",
       "\n",
       "\n",
       "        [[[0.4506, 0.3409, 1.0564,  ..., 0.2641, 0.1418, 0.6450],\n",
       "          [0.5090, 0.3894, 0.2487,  ..., 0.1238, 0.9002, 0.1043]],\n",
       "\n",
       "         [[1.0588, 0.7874, 0.8904,  ..., 0.7382, 0.7450, 1.5895],\n",
       "          [1.0225, 1.9032, 1.3746,  ..., 0.9761, 0.9513, 1.1456]],\n",
       "\n",
       "         [[0.4155, 0.7079, 1.0195,  ..., 0.4789, 1.1009, 0.9086],\n",
       "          [1.6690, 1.4418, 1.1000,  ..., 1.4190, 1.8628, 1.1040]],\n",
       "\n",
       "         ...,\n",
       "\n",
       "         [[1.0563, 1.1773, 1.7421,  ..., 1.1210, 1.4754, 1.0168],\n",
       "          [0.8794, 1.1327, 1.0753,  ..., 0.5343, 1.0362, 0.6820]],\n",
       "\n",
       "         [[1.2356, 1.2207, 0.8536,  ..., 0.8730, 1.4523, 1.1606],\n",
       "          [1.7252, 0.9145, 1.3961,  ..., 0.9948, 0.7981, 1.2795]],\n",
       "\n",
       "         [[1.4214, 0.7501, 1.6446,  ..., 1.5390, 1.1201, 1.1488],\n",
       "          [0.7544, 0.7253, 0.3214,  ..., 0.6000, 0.4878, 0.8184]]]])"
      ]
     },
     "execution_count": 58,
     "metadata": {},
     "output_type": "execute_result"
    }
   ],
   "source": [
    "test + test_tt"
   ]
  },
  {
   "cell_type": "code",
   "execution_count": 62,
   "id": "4ae1578a",
   "metadata": {
    "scrolled": true
   },
   "outputs": [
    {
     "name": "stdout",
     "output_type": "stream",
     "text": [
      "tensor([[ 7],\n",
      "        [ 6],\n",
      "        [12],\n",
      "        [ 0]])\n"
     ]
    },
    {
     "data": {
      "text/plain": [
       "tensor([[2],\n",
       "        [4],\n",
       "        [5],\n",
       "        [6]])"
      ]
     },
     "execution_count": 62,
     "metadata": {},
     "output_type": "execute_result"
    }
   ],
   "source": [
    "import models.tsg_utils as utils\n",
    "import importlib\n",
    "importlib.reload(utils)\n",
    "utils.get_cluster_gt_id_by_nearest_gt_centroid(gt_centroids, gt_centroids_ids, pred_centroid, gt_point_labels)"
   ]
  },
  {
   "cell_type": "code",
   "execution_count": 60,
   "id": "8f3d06c2",
   "metadata": {
    "scrolled": false
   },
   "outputs": [
    {
     "data": {
      "text/plain": [
       "tensor([[ 7],\n",
       "        [ 6],\n",
       "        [12],\n",
       "        [ 0]])"
      ]
     },
     "execution_count": 60,
     "metadata": {},
     "output_type": "execute_result"
    }
   ],
   "source": [
    "importlib.reload(utils)\n",
    "\n",
    "utils.get_cluster_gt_id_by_nearest_gt_centroid(gt_centroids, gt_centroids_ids, pred_centroid, gt_point_labels)"
   ]
  },
  {
   "cell_type": "code",
   "execution_count": 206,
   "id": "2d115dc8",
   "metadata": {},
   "outputs": [],
   "source": [
    "centroid_coord = np.load(os.path.join(\"data\",\"sampled_cls\",\"sugo_2_centroid.npy\"))\n",
    "centroid_exist = np.load(os.path.join(\"data\",\"sampled_cls\",\"sugo_2_centroid_exist.npy\"))\n",
    "mesh = np.load(os.path.join(\"data\",\"sampled_cls\", \"sugo_2_mesh.npy\"))"
   ]
  },
  {
   "cell_type": "code",
   "execution_count": 202,
   "id": "77f073a7",
   "metadata": {},
   "outputs": [],
   "source": [
    "rr = np.array([np.arange(8),np.arange(8)]).T.reshape(16,1)+1"
   ]
  },
  {
   "cell_type": "code",
   "execution_count": 207,
   "id": "8f0f4455",
   "metadata": {},
   "outputs": [],
   "source": [
    "centroid_coord = np.concatenate([centroid_coord, rr], axis=1)\n",
    "centroid_coord = centroid_coord[centroid_coord[:,0]>-5]"
   ]
  },
  {
   "cell_type": "code",
   "execution_count": 176,
   "id": "bb438fd7",
   "metadata": {},
   "outputs": [
    {
     "data": {
      "text/plain": [
       "(16, 4)"
      ]
     },
     "execution_count": 176,
     "metadata": {},
     "output_type": "execute_result"
    }
   ],
   "source": [
    "centroid_coord.shape"
   ]
  },
  {
   "cell_type": "code",
   "execution_count": 170,
   "id": "873377a7",
   "metadata": {},
   "outputs": [
    {
     "data": {
      "text/plain": [
       "array([[ 0.58299711,  0.16576458,  0.36766305, ..., -0.16167444,\n",
       "         0.89173833,  2.        ],\n",
       "       [ 0.58950657,  0.16363464,  0.36518419, ..., -0.08115347,\n",
       "         0.9654527 ,  2.        ],\n",
       "       [ 0.59016012,  0.16319963,  0.36911771, ..., -0.07628287,\n",
       "         0.96889308,  2.        ],\n",
       "       ...,\n",
       "       [ 0.08875322,  0.79435488,  0.3449476 , ..., -0.52923539,\n",
       "        -0.47323164,  0.        ],\n",
       "       [ 0.08079977,  0.78768028,  0.34755954, ..., -0.47976483,\n",
       "        -0.69503023,  0.        ],\n",
       "       [ 0.08543338,  0.78866593,  0.34387204, ..., -0.54302425,\n",
       "        -0.53451198,  0.        ]])"
      ]
     },
     "execution_count": 170,
     "metadata": {},
     "output_type": "execute_result"
    }
   ],
   "source": [
    "mesh"
   ]
  },
  {
   "cell_type": "code",
   "execution_count": 205,
   "id": "0a0d0e54",
   "metadata": {},
   "outputs": [
    {
     "data": {
      "text/plain": [
       "(8,)"
      ]
     },
     "execution_count": 205,
     "metadata": {},
     "output_type": "execute_result"
    }
   ],
   "source": [
    "centroid_exist.shape"
   ]
  },
  {
   "cell_type": "code",
   "execution_count": 172,
   "id": "79dc2313",
   "metadata": {},
   "outputs": [],
   "source": [
    "\n",
    "import models.gen_utils as gen_utils\n"
   ]
  },
  {
   "cell_type": "code",
   "execution_count": 213,
   "id": "0fc59777",
   "metadata": {},
   "outputs": [
    {
     "data": {
      "text/plain": [
       "array([[0.32736046, 0.71189952, 0.20750141],\n",
       "       [0.56743345, 0.07504726, 0.34684285],\n",
       "       [0.35949841, 0.4314623 , 0.98791015],\n",
       "       [0.31151589, 0.44971993, 0.86484811],\n",
       "       [0.96808667, 0.42096273, 0.95791817],\n",
       "       [0.64136201, 0.41471365, 0.11085843],\n",
       "       [0.4789342 , 0.30820783, 0.34425576],\n",
       "       [0.50173988, 0.38319907, 0.09296238]])"
      ]
     },
     "execution_count": 213,
     "metadata": {},
     "output_type": "execute_result"
    }
   ],
   "source": [
    "np.random.rand(8,3)"
   ]
  },
  {
   "cell_type": "code",
   "execution_count": 187,
   "id": "a93d7662",
   "metadata": {},
   "outputs": [],
   "source": [
    "gen_utils.print_3d([gen_utils.np_to_pcd(centroid_coord[:,:3])])"
   ]
  },
  {
   "cell_type": "code",
   "execution_count": 195,
   "id": "901f40c3",
   "metadata": {},
   "outputs": [],
   "source": [
    "centroid_coord = centroid_coord[centroid_coord[:,0]>-5]"
   ]
  },
  {
   "cell_type": "code",
   "execution_count": 196,
   "id": "53288d5a",
   "metadata": {},
   "outputs": [
    {
     "data": {
      "text/plain": [
       "array([[0.51668505, 0.19062499, 0.3763766 , 0.        ],\n",
       "       [0.41989021, 0.19416192, 0.39651588, 0.        ],\n",
       "       [0.61673689, 0.1902163 , 0.37971893, 1.        ],\n",
       "       [0.32524598, 0.21933546, 0.38427585, 1.        ],\n",
       "       [0.69463675, 0.21133683, 0.39163248, 2.        ],\n",
       "       [0.25758288, 0.28703376, 0.38882024, 2.        ],\n",
       "       [0.76202807, 0.29635131, 0.37765181, 3.        ],\n",
       "       [0.81273722, 0.40116623, 0.39689242, 4.        ],\n",
       "       [0.85014329, 0.50730603, 0.4096116 , 5.        ]])"
      ]
     },
     "execution_count": 196,
     "metadata": {},
     "output_type": "execute_result"
    }
   ],
   "source": [
    "centroid_coord"
   ]
  },
  {
   "cell_type": "code",
   "execution_count": 208,
   "id": "64740a24",
   "metadata": {},
   "outputs": [],
   "source": [
    "gen_utils.print_3d([gen_utils.np_to_pcd(mesh[:,:3]), gen_utils.np_to_by_label(centroid_coord)])"
   ]
  },
  {
   "cell_type": "code",
   "execution_count": 209,
   "id": "d1d312a9",
   "metadata": {},
   "outputs": [
    {
     "data": {
      "text/plain": [
       "(9, 4)"
      ]
     },
     "execution_count": 209,
     "metadata": {},
     "output_type": "execute_result"
    }
   ],
   "source": [
    "centroid_coord.shape"
   ]
  },
  {
   "cell_type": "code",
   "execution_count": null,
   "id": "1df22ad8",
   "metadata": {},
   "outputs": [],
   "source": []
  }
 ],
 "metadata": {
  "kernelspec": {
   "display_name": "Python 3",
   "language": "python",
   "name": "python3"
  },
  "language_info": {
   "codemirror_mode": {
    "name": "ipython",
    "version": 3
   },
   "file_extension": ".py",
   "mimetype": "text/x-python",
   "name": "python",
   "nbconvert_exporter": "python",
   "pygments_lexer": "ipython3",
   "version": "3.6.13"
  }
 },
 "nbformat": 4,
 "nbformat_minor": 5
}
