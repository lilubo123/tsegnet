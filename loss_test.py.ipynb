{
 "cells": [
  {
   "cell_type": "code",
   "execution_count": 1,
   "id": "08000824",
   "metadata": {},
   "outputs": [
    {
     "data": {
      "text/plain": [
       "<module 'models.tsg_loss' from 'G:\\\\mesh\\\\segmentation\\\\models\\\\tsg_loss.py'>"
      ]
     },
     "execution_count": 1,
     "metadata": {},
     "output_type": "execute_result"
    }
   ],
   "source": [
    "import torch\n",
    "import sys\n",
    "import importlib\n",
    "import models.tsg_loss as tsg_loss\n",
    "from models.tsg_centroid_module import get_model\n",
    "importlib.reload(tsg_loss)\n"
   ]
  },
  {
   "cell_type": "code",
   "execution_count": 2,
   "id": "7df5fd4c",
   "metadata": {
    "scrolled": true
   },
   "outputs": [
    {
     "data": {
      "text/plain": [
       "<All keys matched successfully>"
      ]
     },
     "execution_count": 2,
     "metadata": {},
     "output_type": "execute_result"
    }
   ],
   "source": [
    "model = get_model()\n",
    "model.cuda()\n",
    "model.load_state_dict(torch.load(\"pretrained_centroid_model.h5\"))"
   ]
  },
  {
   "cell_type": "code",
   "execution_count": 3,
   "id": "88928f56",
   "metadata": {},
   "outputs": [
    {
     "name": "stdout",
     "output_type": "stream",
     "text": [
      "Jupyter environment detected. Enabling Open3D WebVisualizer.\n",
      "[Open3D INFO] WebRTC GUI backend enabled.\n",
      "[Open3D INFO] WebRTCWindowSystem: HTTP handshake server disabled.\n"
     ]
    }
   ],
   "source": [
    "import torch\n",
    "from torch.utils.data import Dataset, DataLoader\n",
    "import open3d as o3d\n",
    "import os\n",
    "import numpy as np\n",
    "from models.tsg_centroid_module import get_model\n",
    "from models.tsg_loss import centroid_loss\n",
    "from torch.optim.lr_scheduler import ExponentialLR\n",
    "from models.pointnet2_utils import square_distance\n",
    "\n",
    "class CenterPointGenerator(Dataset):\n",
    "    def __init__(self, data_dir=\"data/case1/sampled\"):\n",
    "        self.data_dir = data_dir\n",
    "\n",
    "    def __len__(self):\n",
    "        return 2\n",
    "\n",
    "    def __getitem__(self, idx):\n",
    "        if torch.is_tensor(idx):\n",
    "            idx = idx.tolist()\n",
    "\n",
    "        #low = o3d.io.read_point_cloud(os.path.join(\"data\", \"case1\", \"sampled\", \"align_low.ply\"))\n",
    "\n",
    "        #low_arr = np.asarray(low.points).astype(\"float32\")\n",
    "        #low_n = np.asarray(low.normals).astype(\"float32\")\n",
    "        #low_feat = np.concatenate((low_arr,low_n), axis=1)\n",
    "\n",
    "        low_feat = np.load(os.path.join(\"data\",\"case1\",\"sampled\",\"align_low_sampled.npy\"))[:,:6].astype(\"float32\")\n",
    "        low_feat = torch.from_numpy(low_feat)\n",
    "        low_feat = low_feat.permute(1,0)\n",
    "        \n",
    "        centroid = np.load(os.path.join(\"data\",\"case1\",\"sampled\",\"align_low.txt.npy\")).astype(\"float32\")\n",
    "        centroid = torch.from_numpy(centroid)\n",
    "        centroid = centroid.permute(1,0)\n",
    "\n",
    "        seg_label = np.load(os.path.join(\"data\",\"case1\",\"sampled\",\"align_low_sampled.npy\"))[:,6:].astype(\"int\")\n",
    "        seg_label = torch.from_numpy(seg_label)\n",
    "        seg_label = seg_label.permute(1,0)\n",
    "        return low_feat, centroid, seg_label"
   ]
  },
  {
   "cell_type": "code",
   "execution_count": 4,
   "id": "94ee12dc",
   "metadata": {},
   "outputs": [],
   "source": [
    "point_loader = DataLoader(CenterPointGenerator(), batch_size=2)\n",
    "\n",
    "model.eval()\n",
    "for item in point_loader:\n",
    "    points = item[0].cuda()\n",
    "    centroids = item[1].cuda()\n",
    "    output = model(points)\n",
    "    "
   ]
  },
  {
   "cell_type": "code",
   "execution_count": 5,
   "id": "557afc8e",
   "metadata": {},
   "outputs": [],
   "source": [
    "from models.pointnet2_utils import square_distance\n",
    "def distance_loss(pred_distance, sample_xyz, centroid):\n",
    "    pred_distance = pred_distance.view(-1, sample_xyz.shape[2])\n",
    "    sample_xyz = sample_xyz.permute(0,2,1)\n",
    "    centroid = centroid.permute(0,2,1)\n",
    "\n",
    "    dists = square_distance(sample_xyz, centroid)\n",
    "    sorted_dists, idx = dists.sort(dim=-1)\n",
    "    min_dists = sorted_dists[:, :, 0]\n",
    "    loss = torch.nn.functional.smooth_l1_loss(pred_distance, min_dists)\n",
    "    return loss, min_dists\n",
    "\n",
    "def np_to_pcd(arr, color=[1,0,0]):\n",
    "    pcd = o3d.geometry.PointCloud()\n",
    "    pcd.points = o3d.utility.Vector3dVector(arr)\n",
    "    pcd.colors = o3d.utility.Vector3dVector([color]*len(pcd.points))\n",
    "    return pcd\n",
    "\n",
    "\n",
    "def centroid_dist_loss(pred_offset, sample_xyz, distance, centroid):\n",
    "    distance = distance.view(-1, sample_xyz.shape[2])\n",
    "    pred_offset = pred_offset.permute(0,2,1)\n",
    "    sample_xyz = sample_xyz.permute(0,2,1)\n",
    "    centroid = centroid.permute(0,2,1)\n",
    "\n",
    "    pred_centroid = torch.add(pred_offset, sample_xyz)\n",
    "\n",
    "    #source를 pred centroid로\n",
    "    pred_ct_dists = square_distance(pred_centroid, centroid)\n",
    "    sorted_pred_ct_dists, _ = pred_ct_dists.sort(dim=-1)\n",
    "    min_pred_ct_dists = sorted_pred_ct_dists[:, :, 0]\n",
    "    pred_ct_mask = distance.le(0.02)\n",
    "    fin_pred_ct_dists = torch.masked_select(min_pred_ct_dists, pred_ct_mask)\n",
    "    loss = torch.sum(fin_pred_ct_dists)\n",
    "\n",
    "    #source를 centroid로\n",
    "    ct_dists = square_distance(centroid, pred_centroid)\n",
    "    sorted_ct_dists, _ = ct_dists.sort(dim=-1)\n",
    "    min_ct_dists = sorted_ct_dists[:, :, 0]\n",
    "    ct_mask = min_ct_dists.le(0.02)\n",
    "    fin_ct_dists = torch.masked_select(min_ct_dists, ct_mask)\n",
    "    loss += torch.sum(fin_ct_dists)\n",
    "    return loss\n",
    "\n",
    "def chamfer_distance_loss(pred_offset, sample_xyz, centroid):\n",
    "    pred_offset = pred_offset.permute(0,2,1)\n",
    "    sample_xyz = sample_xyz.permute(0,2,1)\n",
    "    centroid = centroid.permute(0,2,1)\n",
    "\n",
    "    pred_centroid = torch.add(pred_offset, sample_xyz)\n",
    "\n",
    "    #source를 pred centroid로\n",
    "    pred_ct_dists = square_distance(pred_centroid, centroid)\n",
    "    sorted_pred_ct_dists, _ = pred_ct_dists.sort(dim=-1)\n",
    "    min_pred_ct_dists = sorted_pred_ct_dists[:, :, :2]\n",
    "    \n",
    "    pred_ct_mask = min_pred_ct_dists[:,:,1].le(0.02)\n",
    "    \n",
    "    ratio = torch.div(min_pred_ct_dists[:,:,0], min_pred_ct_dists[:,:,1])\n",
    "    ratio = torch.masked_select(ratio, pred_ct_mask)\n",
    "    \n",
    "    loss = torch.sum(ratio)\n",
    "    return loss"
   ]
  },
  {
   "cell_type": "code",
   "execution_count": 6,
   "id": "57400ceb",
   "metadata": {
    "scrolled": true
   },
   "outputs": [],
   "source": [
    "output_gt_dist_cpu = distance_loss(output[5], output[3], centroids)[1].cpu().detach().numpy()[1,:].T"
   ]
  },
  {
   "cell_type": "code",
   "execution_count": 7,
   "id": "e1da580d",
   "metadata": {
    "scrolled": true
   },
   "outputs": [
    {
     "data": {
      "text/plain": [
       "tensor(13.2991, device='cuda:0', grad_fn=<SumBackward0>)"
      ]
     },
     "execution_count": 7,
     "metadata": {},
     "output_type": "execute_result"
    }
   ],
   "source": [
    "distance_loss(output[5], output[3], centroids)[0]\n",
    "centroid_dist_loss(output[4], output[3], output[5], centroids)\n",
    "chamfer_distance_loss(output[4], output[3], centroids)"
   ]
  },
  {
   "cell_type": "code",
   "execution_count": 8,
   "id": "991c7a55",
   "metadata": {},
   "outputs": [],
   "source": [
    "output_offset_cpu = output[4].cpu().detach().numpy()[0,:].T\n",
    "output_xyz_cpu = output[3].cpu().detach().numpy()[0,:].T\n",
    "cen_cpu = centroids.cpu().detach().numpy()[0,:].T\n",
    "output_dist_cpu = output[5].cpu().detach().numpy()[0,:].T\n",
    "output_input_xyz_cpu = output[2].cpu().detach().numpy()[0,:].T"
   ]
  },
  {
   "cell_type": "code",
   "execution_count": 18,
   "id": "64fb80a0",
   "metadata": {},
   "outputs": [
    {
     "name": "stdout",
     "output_type": "stream",
     "text": [
      "(4096, 3)\n"
     ]
    }
   ],
   "source": [
    "import torch\n",
    "import models.tsg_utils as utils\n",
    "import importlib\n",
    "importlib.reload(utils)\n",
    "\n",
    "#o3d.visualization.draw_geometries([np_to_pcd(output_offset_cpu+output_xyz_cpu, color=[0,1,0]), np_to_pcd(cen_cpu)], mesh_show_back_face=False,mesh_show_wireframe=True)\n",
    "#o3d.visualization.draw_geometries([np_to_pcd(output_xyz_cpu, color=[0,1,0]), np_to_pcd(cen_cpu)], mesh_show_back_face=False,mesh_show_wireframe=True)\n",
    "#o3d.visualization.draw_geometries([np_to_pcd(output_xyz_cpu[output_gt_dist_cpu.reshape(256)<0.02], color=[0,1,0]), np_to_pcd(cen_cpu)], mesh_show_back_face=False,mesh_show_wireframe=True)\n",
    "#o3d.visualization.draw_geometries([np_to_pcd(output_xyz_cpu[output_dist_cpu.reshape(256)<0.02], color=[0,1,0]), np_to_pcd(cen_cpu)], mesh_show_back_face=False,mesh_show_wireframe=True)\n",
    "#sampled_db_scan = utils.dbscan_pc(output[3], output[4], output[5])\n",
    "#o3d.visualization.draw_geometries([np_to_pcd(sampled_db_scan[0], color=[0,1,0]), np_to_pcd(cen_cpu)], mesh_show_back_face=False,mesh_show_wireframe=True)\n",
    "\n",
    "test_cropped = ne_poi.cpu().detach().numpy()[8].T\n",
    "print(test_cropped.shape)\n",
    "o3d.visualization.draw_geometries([np_to_pcd(test_cropped, color=[0,1,0]), np_to_pcd(cen_cpu)], mesh_show_back_face=False,mesh_show_wireframe=True)\n"
   ]
  },
  {
   "cell_type": "code",
   "execution_count": 169,
   "id": "03a737d5",
   "metadata": {},
   "outputs": [
    {
     "data": {
      "text/plain": [
       "array([list([array([0.20406094, 0.53706926, 0.4847145 ], dtype=float32), array([0.5025953 , 0.28543174, 0.47124866], dtype=float32), array([0.82142013, 0.73999816, 0.47141054], dtype=float32), array([0.69704455, 0.337916  , 0.47812864], dtype=float32), array([0.30652386, 0.3644412 , 0.48304662], dtype=float32), array([0.8159354 , 0.8780104 , 0.48148608], dtype=float32), array([0.81238014, 0.465721  , 0.45423186], dtype=float32), array([0.14626619, 0.6568919 , 0.4773864 ], dtype=float32), array([0.3769169 , 0.30961534, 0.48987198], dtype=float32), array([0.8180218 , 0.5975608 , 0.46019837], dtype=float32), array([0.637063  , 0.30266887, 0.48509288], dtype=float32), array([0.25585672, 0.43449455, 0.47864455], dtype=float32), array([0.7567793 , 0.38862902, 0.47854447], dtype=float32), array([0.44348887, 0.2856421 , 0.48213133], dtype=float32), array([0.57994336, 0.28647494, 0.48113176], dtype=float32)]),\n",
       "       list([array([0.81653816, 0.8730276 , 0.481049  ], dtype=float32), array([0.25782865, 0.4424718 , 0.48007432], dtype=float32), array([0.7021319 , 0.34625202, 0.47695738], dtype=float32), array([0.8180365 , 0.59055585, 0.458134  ], dtype=float32), array([0.44664225, 0.28192928, 0.48125643], dtype=float32), array([0.15138172, 0.6435114 , 0.47937992], dtype=float32), array([0.8150755 , 0.47060353, 0.45373166], dtype=float32), array([0.37759826, 0.30973452, 0.48827747], dtype=float32), array([0.8219932 , 0.73048604, 0.47363636], dtype=float32), array([0.21208793, 0.533213  , 0.48467872], dtype=float32), array([0.59083647, 0.2752197 , 0.48675075], dtype=float32), array([0.51571125, 0.28748077, 0.47389972], dtype=float32), array([0.6387306 , 0.30207586, 0.48438329], dtype=float32), array([0.7603957 , 0.391889  , 0.47477922], dtype=float32), array([0.17623764, 0.6048105 , 0.48436862], dtype=float32), array([0.30660397, 0.3658981 , 0.4851528 ], dtype=float32)])],\n",
       "      dtype=object)"
      ]
     },
     "execution_count": 169,
     "metadata": {},
     "output_type": "execute_result"
    }
   ],
   "source": [
    "sampled_db_scan"
   ]
  },
  {
   "cell_type": "code",
   "execution_count": 38,
   "id": "bdf5f7fa",
   "metadata": {
    "scrolled": true
   },
   "outputs": [
    {
     "data": {
      "text/plain": [
       "torch.Size([15, 20, 4096])"
      ]
     },
     "execution_count": 38,
     "metadata": {},
     "output_type": "execute_result"
    }
   ],
   "source": [
    "import torch\n",
    "import models.tsg_utils as utils\n",
    "import importlib\n",
    "importlib.reload(utils)\n",
    "sampled_db_scan = utils.dbscan_pc(output[3], output[4], output[5])\n",
    "nearest_n = utils.get_nearest_neighbor_idx(output[2], sampled_db_scan)\n",
    "nei_features,_ = utils.get_nearest_neighbor_points_with_centroids(output[0],nearest_n, sampled_db_scan)\n",
    "nei_points,cropped_sampled_clusters = utils.get_nearest_neighbor_points_with_centroids(output[2],nearest_n, sampled_db_scan)\n",
    "\n",
    "concated = utils.concat_seg_input(nei_features, nei_points, cropped_sampled_clusters)\n",
    "concated.shape"
   ]
  },
  {
   "cell_type": "code",
   "execution_count": 196,
   "id": "e97b58e2",
   "metadata": {},
   "outputs": [
    {
     "data": {
      "text/plain": [
       "15"
      ]
     },
     "execution_count": 196,
     "metadata": {},
     "output_type": "execute_result"
    }
   ],
   "source": [
    "len(nearest_n[0])"
   ]
  },
  {
   "cell_type": "code",
   "execution_count": 241,
   "id": "69f03cc7",
   "metadata": {
    "scrolled": true
   },
   "outputs": [
    {
     "data": {
      "text/plain": [
       "tensor(0.1347)"
      ]
     },
     "execution_count": 241,
     "metadata": {},
     "output_type": "execute_result"
    }
   ],
   "source": [
    "tsg_loss.distance_loss(distance, xyz, centroid)"
   ]
  },
  {
   "cell_type": "code",
   "execution_count": 242,
   "id": "cee89ee1",
   "metadata": {},
   "outputs": [
    {
     "data": {
      "text/plain": [
       "tensor(40.4253)"
      ]
     },
     "execution_count": 242,
     "metadata": {},
     "output_type": "execute_result"
    }
   ],
   "source": [
    "tsg_loss.centroid_loss(offset_xyz, xyz, distance, centroid)"
   ]
  },
  {
   "cell_type": "code",
   "execution_count": 243,
   "id": "de2c1ae2",
   "metadata": {},
   "outputs": [
    {
     "data": {
      "text/plain": [
       "tensor(38.7016)"
      ]
     },
     "execution_count": 243,
     "metadata": {},
     "output_type": "execute_result"
    }
   ],
   "source": [
    "tsg_loss.chamfer_distance_loss(offset_xyz, xyz, centroid)"
   ]
  },
  {
   "cell_type": "code",
   "execution_count": 114,
   "id": "3ad06c34",
   "metadata": {},
   "outputs": [],
   "source": [
    "xyz = torch.rand(2, 3, 32)\n",
    "offset_xyz = torch.rand(2, 3, 32)\n",
    "distance = torch.rand(2, 1, 32)\n",
    "centroid = torch.rand(1,3,9)\n",
    "centroid = centroid.repeat(2,1,1)"
   ]
  },
  {
   "cell_type": "code",
   "execution_count": 79,
   "id": "dccdf413",
   "metadata": {},
   "outputs": [],
   "source": [
    "distance = distance.view(2,-1)"
   ]
  },
  {
   "cell_type": "code",
   "execution_count": 80,
   "id": "ecf106ec",
   "metadata": {},
   "outputs": [
    {
     "data": {
      "text/plain": [
       "torch.Size([2, 32])"
      ]
     },
     "execution_count": 80,
     "metadata": {},
     "output_type": "execute_result"
    }
   ],
   "source": [
    "distance.shape"
   ]
  },
  {
   "cell_type": "code",
   "execution_count": 58,
   "id": "740289a7",
   "metadata": {},
   "outputs": [],
   "source": [
    "dists = square_distance(centroid, xyz)\n"
   ]
  },
  {
   "cell_type": "code",
   "execution_count": 59,
   "id": "cb667603",
   "metadata": {},
   "outputs": [],
   "source": [
    "# source(row) 로부터 target(col)까지의 거리, 가장 가까운 게 0부터 시작하는 것. ex [0,:1]\n",
    "dists, idx = dists.sort(dim=-1)"
   ]
  },
  {
   "cell_type": "code",
   "execution_count": 71,
   "id": "3259239e",
   "metadata": {},
   "outputs": [
    {
     "data": {
      "text/plain": [
       "torch.Size([2, 32])"
      ]
     },
     "execution_count": 71,
     "metadata": {},
     "output_type": "execute_result"
    }
   ],
   "source": [
    "dists[:, 0].shape"
   ]
  },
  {
   "cell_type": "code",
   "execution_count": 60,
   "id": "5668eb70",
   "metadata": {
    "scrolled": true
   },
   "outputs": [
    {
     "data": {
      "text/plain": [
       "tensor([[[0.0739, 0.0818, 0.1504, 0.2462, 0.3607, 0.4563, 0.4701, 0.4807,\n",
       "          0.5001, 0.5645, 0.6194, 0.6347, 0.6497, 0.6565, 0.6925, 0.7109,\n",
       "          0.7572, 0.7584, 0.7673, 0.8503, 0.8913, 0.8913, 0.9732, 1.0682,\n",
       "          1.1045, 1.1850, 1.1942, 1.3112, 1.5498, 1.5609, 1.7778, 1.9340],\n",
       "         [0.0268, 0.0345, 0.0552, 0.0694, 0.1129, 0.1444, 0.1448, 0.1511,\n",
       "          0.1532, 0.1580, 0.1802, 0.1842, 0.2023, 0.2691, 0.3020, 0.3391,\n",
       "          0.3510, 0.4399, 0.4724, 0.4911, 0.5349, 0.5467, 0.5713, 0.6040,\n",
       "          0.6298, 0.6576, 0.6640, 0.7225, 0.7906, 0.8345, 0.9125, 0.9649],\n",
       "         [0.0132, 0.0598, 0.0689, 0.0768, 0.1261, 0.1396, 0.1563, 0.1909,\n",
       "          0.2247, 0.2319, 0.2581, 0.2925, 0.3036, 0.3299, 0.3416, 0.3561,\n",
       "          0.5043, 0.5204, 0.6210, 0.6223, 0.6292, 0.6379, 0.6464, 0.6707,\n",
       "          0.7058, 0.7392, 0.7809, 0.9788, 1.0331, 1.0527, 1.1398, 1.1427],\n",
       "         [0.0234, 0.0400, 0.0617, 0.0677, 0.0894, 0.1213, 0.1213, 0.1845,\n",
       "          0.2183, 0.2332, 0.2362, 0.2631, 0.2956, 0.3091, 0.3493, 0.3528,\n",
       "          0.3599, 0.3722, 0.4170, 0.4259, 0.4394, 0.4606, 0.4678, 0.4681,\n",
       "          0.4868, 0.5187, 0.5207, 0.5456, 0.5472, 0.5978, 0.6242, 0.6972],\n",
       "         [0.0552, 0.1434, 0.1923, 0.2010, 0.2343, 0.2701, 0.3401, 0.4299,\n",
       "          0.4309, 0.4652, 0.5416, 0.6032, 0.6460, 0.7045, 0.7619, 0.7633,\n",
       "          0.7981, 0.8785, 0.8947, 0.9827, 1.0026, 1.1340, 1.1973, 1.2083,\n",
       "          1.2474, 1.3077, 1.3189, 1.3792, 1.4742, 1.4946, 1.5697, 1.5862],\n",
       "         [0.0110, 0.0226, 0.1948, 0.2626, 0.2706, 0.2854, 0.2981, 0.4153,\n",
       "          0.4254, 0.4379, 0.4804, 0.4957, 0.5743, 0.5871, 0.6104, 0.6156,\n",
       "          0.6234, 0.7039, 0.7252, 0.7269, 0.7671, 0.7990, 0.8072, 0.8722,\n",
       "          0.8957, 0.9947, 1.0422, 1.0864, 1.1525, 1.2493, 1.3741, 1.4426],\n",
       "         [0.0280, 0.0675, 0.0851, 0.1167, 0.1238, 0.1291, 0.1346, 0.1553,\n",
       "          0.1776, 0.1778, 0.1806, 0.1886, 0.1939, 0.1965, 0.2282, 0.2484,\n",
       "          0.2652, 0.2868, 0.2940, 0.3003, 0.3239, 0.3339, 0.3402, 0.3567,\n",
       "          0.3636, 0.3723, 0.3850, 0.4299, 0.4580, 0.4732, 0.5973, 0.6584],\n",
       "         [0.0132, 0.0138, 0.0197, 0.0650, 0.0782, 0.1085, 0.1120, 0.1243,\n",
       "          0.1257, 0.1898, 0.2370, 0.2903, 0.2988, 0.3001, 0.3674, 0.3785,\n",
       "          0.4674, 0.4843, 0.5266, 0.5626, 0.5715, 0.5856, 0.6365, 0.6492,\n",
       "          0.6510, 0.6852, 0.7066, 0.7188, 0.7531, 0.7590, 0.8260, 0.8901],\n",
       "         [0.0204, 0.0806, 0.0819, 0.0909, 0.1223, 0.1406, 0.1811, 0.2204,\n",
       "          0.2921, 0.3723, 0.3819, 0.3961, 0.5126, 0.5374, 0.6451, 0.7013,\n",
       "          0.7033, 0.7276, 0.7485, 0.7902, 0.8552, 0.8631, 0.8747, 0.8881,\n",
       "          0.8962, 0.9965, 1.0064, 1.1564, 1.1677, 1.1699, 1.2900, 1.3269]],\n",
       "\n",
       "        [[0.0935, 0.1069, 0.1382, 0.1663, 0.2198, 0.2224, 0.2641, 0.3786,\n",
       "          0.4088, 0.4920, 0.5649, 0.6046, 0.6323, 0.6419, 0.6995, 0.7392,\n",
       "          0.7499, 0.7698, 0.7792, 0.8270, 0.8312, 0.8612, 1.0088, 1.1493,\n",
       "          1.1600, 1.1736, 1.2134, 1.2721, 1.2769, 1.2819, 1.3360, 1.8922],\n",
       "         [0.0336, 0.0366, 0.1023, 0.1436, 0.2209, 0.2238, 0.2375, 0.2622,\n",
       "          0.2898, 0.2976, 0.3120, 0.3218, 0.3746, 0.3841, 0.3951, 0.3992,\n",
       "          0.4265, 0.4516, 0.4994, 0.5049, 0.5148, 0.5348, 0.5362, 0.5600,\n",
       "          0.5910, 0.6649, 0.6919, 0.6923, 0.7590, 0.7641, 1.0416, 1.1930],\n",
       "         [0.0023, 0.0474, 0.0776, 0.1091, 0.1476, 0.1817, 0.1852, 0.1915,\n",
       "          0.2053, 0.2163, 0.2189, 0.2245, 0.2455, 0.2603, 0.3030, 0.3136,\n",
       "          0.3355, 0.3375, 0.4186, 0.4628, 0.4824, 0.5453, 0.5688, 0.5690,\n",
       "          0.5780, 0.6356, 0.6853, 0.6941, 0.7346, 0.7630, 0.9043, 0.9875],\n",
       "         [0.0027, 0.0059, 0.0328, 0.0556, 0.0584, 0.0608, 0.0876, 0.1043,\n",
       "          0.1231, 0.1570, 0.1755, 0.1812, 0.1960, 0.2321, 0.3172, 0.3180,\n",
       "          0.3194, 0.3611, 0.3623, 0.3955, 0.4452, 0.4595, 0.4876, 0.5087,\n",
       "          0.5248, 0.5464, 0.5566, 0.6185, 0.6625, 0.7449, 0.8417, 0.8444],\n",
       "         [0.0662, 0.1355, 0.2753, 0.3326, 0.3773, 0.4181, 0.4354, 0.4509,\n",
       "          0.5063, 0.5420, 0.5861, 0.6000, 0.6086, 0.6361, 0.7360, 0.8125,\n",
       "          0.8293, 0.8412, 0.8643, 0.8652, 0.8785, 0.9630, 1.0469, 1.0813,\n",
       "          1.1282, 1.1347, 1.3687, 1.4051, 1.4194, 1.4282, 1.8931, 2.1916],\n",
       "         [0.1576, 0.1612, 0.2384, 0.3016, 0.3856, 0.4036, 0.4177, 0.4408,\n",
       "          0.4803, 0.4813, 0.5184, 0.5199, 0.5647, 0.5730, 0.6192, 0.6366,\n",
       "          0.6380, 0.7130, 0.7730, 0.7864, 0.8274, 0.8616, 0.8618, 0.8814,\n",
       "          0.9230, 1.0206, 1.0353, 1.3012, 1.4280, 1.4656, 1.6959, 1.8317],\n",
       "         [0.0192, 0.0399, 0.0630, 0.0796, 0.0963, 0.1177, 0.1202, 0.1274,\n",
       "          0.1449, 0.1556, 0.1633, 0.2083, 0.2333, 0.2365, 0.2489, 0.2562,\n",
       "          0.2565, 0.2612, 0.2708, 0.2770, 0.3103, 0.3286, 0.3439, 0.3495,\n",
       "          0.3565, 0.3582, 0.3614, 0.4005, 0.4762, 0.4834, 0.4894, 0.4987],\n",
       "         [0.0220, 0.0370, 0.0545, 0.0590, 0.0720, 0.0827, 0.0987, 0.1500,\n",
       "          0.1768, 0.1770, 0.1868, 0.2231, 0.2778, 0.2858, 0.2899, 0.2998,\n",
       "          0.3765, 0.3815, 0.3899, 0.3923, 0.4241, 0.4923, 0.5486, 0.5637,\n",
       "          0.5876, 0.5907, 0.6219, 0.6332, 0.6587, 0.6695, 0.7571, 0.9724],\n",
       "         [0.0462, 0.0678, 0.0850, 0.0879, 0.1367, 0.1492, 0.1578, 0.1686,\n",
       "          0.2212, 0.3126, 0.3197, 0.3576, 0.4347, 0.4627, 0.5154, 0.5671,\n",
       "          0.5709, 0.5799, 0.6267, 0.7189, 0.7484, 0.7527, 0.7789, 0.7894,\n",
       "          0.8303, 0.8737, 0.9649, 0.9729, 1.0597, 1.0642, 1.1287, 1.4051]]])"
      ]
     },
     "execution_count": 60,
     "metadata": {},
     "output_type": "execute_result"
    }
   ],
   "source": [
    "dists"
   ]
  },
  {
   "cell_type": "code",
   "execution_count": 119,
   "id": "f418d40d",
   "metadata": {},
   "outputs": [
    {
     "data": {
      "text/plain": [
       "tensor([[[0.3751, 0.3346, 0.5492, 0.9032, 0.6448, 0.1328, 0.1621, 0.4308,\n",
       "          0.1521],\n",
       "         [0.9229, 0.0413, 0.0669, 0.1982, 0.3968, 0.4664, 0.4098, 0.4463,\n",
       "          0.9226],\n",
       "         [0.7608, 0.8707, 0.2984, 0.8064, 0.3226, 0.1087, 0.6555, 0.3357,\n",
       "          0.2989]],\n",
       "\n",
       "        [[0.3751, 0.3346, 0.5492, 0.9032, 0.6448, 0.1328, 0.1621, 0.4308,\n",
       "          0.1521],\n",
       "         [0.9229, 0.0413, 0.0669, 0.1982, 0.3968, 0.4664, 0.4098, 0.4463,\n",
       "          0.9226],\n",
       "         [0.7608, 0.8707, 0.2984, 0.8064, 0.3226, 0.1087, 0.6555, 0.3357,\n",
       "          0.2989]]])"
      ]
     },
     "execution_count": 119,
     "metadata": {},
     "output_type": "execute_result"
    }
   ],
   "source": [
    "centroid"
   ]
  },
  {
   "cell_type": "code",
   "execution_count": 53,
   "id": "d843d0e4",
   "metadata": {},
   "outputs": [],
   "source": [
    "import open3d as o3d\n",
    "import numpy as np\n",
    "from glob import glob\n",
    "import os\n",
    "stl_path_list = glob(os.path.join(\"data\",\"case1\",\"seg\",\"*.stl\"))\n",
    "full_stl_path_list = glob(os.path.join(\"data\",\"case1\",\"full\",\"*.stl\"))\n",
    "def get_number_from_name(path):\n",
    "    return int(os.path.basename(path).split(\"_\")[-1].split(\".\")[0])\n",
    "def get_up_from_name(path):\n",
    "    return os.path.basename(path).split(\"_\")[-1].split(\".\")[0]==\"up\""
   ]
  },
  {
   "cell_type": "code",
   "execution_count": 54,
   "id": "c59b4a10",
   "metadata": {
    "scrolled": true
   },
   "outputs": [
    {
     "name": "stdout",
     "output_type": "stream",
     "text": [
      "time : 1.9586846828460693\n",
      "time : 2.003563404083252\n",
      "time : 1.986609697341919\n"
     ]
    },
    {
     "ename": "KeyboardInterrupt",
     "evalue": "",
     "output_type": "error",
     "traceback": [
      "\u001b[1;31m---------------------------------------------------------------------------\u001b[0m",
      "\u001b[1;31mKeyboardInterrupt\u001b[0m                         Traceback (most recent call last)",
      "\u001b[1;32m<ipython-input-54-c4ec69aaa38b>\u001b[0m in \u001b[0;36m<module>\u001b[1;34m\u001b[0m\n\u001b[0;32m     27\u001b[0m         \u001b[0mstart\u001b[0m \u001b[1;33m=\u001b[0m \u001b[0mtime\u001b[0m\u001b[1;33m.\u001b[0m\u001b[0mtime\u001b[0m\u001b[1;33m(\u001b[0m\u001b[1;33m)\u001b[0m  \u001b[1;31m# 시작 시간 저장\u001b[0m\u001b[1;33m\u001b[0m\u001b[1;33m\u001b[0m\u001b[0m\n\u001b[0;32m     28\u001b[0m         \u001b[1;31m# 작업 코드\u001b[0m\u001b[1;33m\u001b[0m\u001b[1;33m\u001b[0m\u001b[1;33m\u001b[0m\u001b[0m\n\u001b[1;32m---> 29\u001b[1;33m         \u001b[0mmesh\u001b[0m \u001b[1;33m=\u001b[0m \u001b[0mmesh\u001b[0m\u001b[1;33m.\u001b[0m\u001b[0msample_points_poisson_disk\u001b[0m\u001b[1;33m(\u001b[0m\u001b[1;36m9000\u001b[0m\u001b[1;33m)\u001b[0m\u001b[1;33m\u001b[0m\u001b[1;33m\u001b[0m\u001b[0m\n\u001b[0m\u001b[0;32m     30\u001b[0m         \u001b[0mprint\u001b[0m\u001b[1;33m(\u001b[0m\u001b[1;34m\"time :\"\u001b[0m\u001b[1;33m,\u001b[0m \u001b[0mtime\u001b[0m\u001b[1;33m.\u001b[0m\u001b[0mtime\u001b[0m\u001b[1;33m(\u001b[0m\u001b[1;33m)\u001b[0m \u001b[1;33m-\u001b[0m \u001b[0mstart\u001b[0m\u001b[1;33m)\u001b[0m  \u001b[1;31m# 현재시각 - 시작시간 = 실행 시간\u001b[0m\u001b[1;33m\u001b[0m\u001b[1;33m\u001b[0m\u001b[0m\n\u001b[0;32m     31\u001b[0m \u001b[1;33m\u001b[0m\u001b[0m\n",
      "\u001b[1;31mKeyboardInterrupt\u001b[0m: "
     ]
    }
   ],
   "source": [
    "for global_item in full_stl_path_list:\n",
    "    is_up = get_up_from_name(global_item) \n",
    "    global_mesh = o3d.io.read_triangle_mesh(global_item)\n",
    "    global_mesh = global_mesh.sample_points_poisson_disk(16000)\n",
    "    global_mesh_arr = np.asarray(global_mesh.points)\n",
    "    global_mesh_n_arr = np.asarray(global_mesh.normals)\n",
    "    \n",
    "    global_min = np.min(global_mesh_arr)\n",
    "    global_mesh_arr -= global_min\n",
    "    global_max = np.max(global_mesh_arr)\n",
    "    global_mesh_arr /= (global_max)\n",
    "    pcd = o3d.geometry.PointCloud()\n",
    "    pcd.points = o3d.utility.Vector3dVector(global_mesh_arr)\n",
    "    pcd.normals = o3d.utility.Vector3dVector(global_mesh_n_arr)\n",
    "    #o3d.io.write_point_cloud(os.path.join(\"data\",\"case1\",\"sampled\",os.path.basename(global_item).replace(\"stl\",\"ply\")), pcd)\n",
    "    cp_arr = [] \n",
    "    for item in stl_path_list:\n",
    "        if(get_number_from_name(item)>=30):\n",
    "            if is_up:\n",
    "                continue\n",
    "        else:\n",
    "            if not is_up:\n",
    "                continue\n",
    "        mesh = o3d.io.read_triangle_mesh(item)\n",
    "        \n",
    "        import time\n",
    "        start = time.time()  # 시작 시간 저장\n",
    "        # 작업 코드\n",
    "        mesh = mesh.sample_points_poisson_disk(9000)\n",
    "        print(\"time :\", time.time() - start)  # 현재시각 - 시작시간 = 실행 시간\n",
    "        \n",
    "        mesh_arr = np.asarray(mesh.points)\n",
    "        mesh_n_arr = np.asarray(mesh.normals)\n",
    "        mesh_arr = (mesh_arr - global_min) / (global_max)\n",
    "        \n",
    "        cp_arr.append(np.mean(mesh_arr,axis=0))\n",
    "        pcd = o3d.geometry.PointCloud()\n",
    "        pcd.points = o3d.utility.Vector3dVector(mesh_arr)\n",
    "        pcd.normals = o3d.utility.Vector3dVector(mesh_n_arr)\n",
    "        #o3d.io.write_point_cloud(os.path.join(\"data\",\"case1\",\"sampled\",os.path.basename(item).replace(\"stl\",\"ply\")), pcd)\n",
    "\n",
    "    np.save(os.path.join(\"data\",\"case1\",\"sampled\",os.path.basename(global_item).replace(\"stl\",\"txt\")), cp_arr)"
   ]
  },
  {
   "cell_type": "code",
   "execution_count": 55,
   "id": "72bd7d1f",
   "metadata": {
    "scrolled": true
   },
   "outputs": [],
   "source": [
    "from sklearn.neighbors import KDTree\n",
    "\n",
    "global_mesh = o3d.io.read_triangle_mesh(full_stl_path_list[0])\n",
    "global_mesh = global_mesh.remove_duplicated_vertices()\n",
    "is_up = get_up_from_name(full_stl_path_list[0])\n",
    "global_mesh_arr = np.asarray(global_mesh.vertices)\n",
    "global_mesh_arr = np.concatenate([global_mesh_arr, np.zeros((global_mesh_arr.shape[0], 1))], axis=1)\n",
    "\n",
    "tree = KDTree(global_mesh_arr[:,:3], leaf_size=2)\n",
    "\n",
    "for stl_path in stl_path_list:\n",
    "    if(get_number_from_name(stl_path)>=30):\n",
    "        if is_up:\n",
    "            continue\n",
    "    else:\n",
    "        if not is_up:\n",
    "            continue\n",
    "    tooth_number = get_number_from_name(stl_path)%10\n",
    "    mesh = o3d.io.read_triangle_mesh(stl_path)\n",
    "    mesh = mesh.remove_duplicated_vertices()\n",
    "    mesh_arr = np.asarray(mesh.vertices)\n",
    "    dist, indexs = tree.query(mesh_arr, k=1)\n",
    "    for point_num, corr_idx in enumerate(indexs):\n",
    "        global_mesh_arr[corr_idx[0], 3] = tooth_number\n",
    "\n",
    "\n"
   ]
  },
  {
   "cell_type": "code",
   "execution_count": 56,
   "id": "610a9f3a",
   "metadata": {},
   "outputs": [],
   "source": [
    "sample_global_mesh = global_mesh.sample_points_poisson_disk(16000)\n",
    "\n",
    "sample_global_mesh_arr = np.asarray(sample_global_mesh.points)\n",
    "sample_global_mesh_n_arr = np.asarray(sample_global_mesh.normals)\n",
    "sample_global_mesh_arr = np.concatenate([sample_global_mesh_arr, sample_global_mesh_n_arr], axis=1)\n",
    "sample_global_mesh_arr = np.concatenate([sample_global_mesh_arr, np.zeros((16000,1))], axis=1)\n",
    "\n",
    "indexs = tree.query_radius(sample_global_mesh_arr[:,:3], 0.2)\n",
    "count_only_ls = tree.query_radius(sample_global_mesh_arr[:,:3], 0.1, count_only=True)\n",
    "\n",
    "for point_num, corr_idx in enumerate(indexs):\n",
    "    if(len(corr_idx)!=0):\n",
    "        sample_global_mesh_arr[point_num,6] = global_mesh_arr[corr_idx[0],3]\n",
    "        \n",
    "    \n",
    "sample_min = np.min(sample_global_mesh_arr[:, :3])\n",
    "sample_global_mesh_arr[:, :3] -= sample_min\n",
    "sample_max = np.max(sample_global_mesh_arr[:, :3])\n",
    "sample_global_mesh_arr[:, :3] /= sample_max\n",
    "\n",
    "\n",
    "np.save(os.path.join(\"data\",\"case1\",\"sampled\",\"align_low_sampled\"), sample_global_mesh_arr)"
   ]
  },
  {
   "cell_type": "code",
   "execution_count": 60,
   "id": "c953c975",
   "metadata": {},
   "outputs": [],
   "source": [
    "cp_arr = []\n",
    "for stl_path in stl_path_list:\n",
    "    if(get_number_from_name(stl_path)>=30):\n",
    "        if is_up:\n",
    "            continue\n",
    "    else:\n",
    "        if not is_up:\n",
    "            continue\n",
    "    mesh = o3d.io.read_triangle_mesh(stl_path)\n",
    "    mesh = mesh.remove_duplicated_vertices()\n",
    "    mesh_arr = np.asarray(mesh.vertices)\n",
    "    mesh_arr -= sample_min\n",
    "    mesh_arr /= sample_max\n",
    "    cp_arr.append(np.mean(mesh_arr,axis=0))\n",
    "np.save(os.path.join(\"data\",\"case1\",\"sampled\",\"align_low.txt\"), np.array(cp_arr))"
   ]
  },
  {
   "cell_type": "code",
   "execution_count": 59,
   "id": "ce7ec182",
   "metadata": {},
   "outputs": [
    {
     "data": {
      "text/plain": [
       "array([[0.57526349, 0.28411775, 0.47570913],\n",
       "       [0.63925299, 0.30164196, 0.48554865],\n",
       "       [0.69622766, 0.33861827, 0.4764211 ],\n",
       "       [0.76302964, 0.39599004, 0.47923847],\n",
       "       [0.812054  , 0.46345009, 0.45362384],\n",
       "       [0.81951826, 0.5987912 , 0.46122558],\n",
       "       [0.82055346, 0.73099579, 0.47666455],\n",
       "       [0.81358786, 0.87691399, 0.48686669],\n",
       "       [0.51238362, 0.28726439, 0.46832352],\n",
       "       [0.44248962, 0.27834032, 0.4801039 ],\n",
       "       [0.37989492, 0.30959741, 0.48769708],\n",
       "       [0.30246302, 0.36574401, 0.48404154],\n",
       "       [0.26126574, 0.43361285, 0.47823913],\n",
       "       [0.21187077, 0.53071579, 0.48924161],\n",
       "       [0.1513252 , 0.64290975, 0.48427326]])"
      ]
     },
     "execution_count": 59,
     "metadata": {},
     "output_type": "execute_result"
    }
   ],
   "source": [
    "np.array(cp_arr)"
   ]
  },
  {
   "cell_type": "code",
   "execution_count": 64,
   "id": "562e5a46",
   "metadata": {},
   "outputs": [
    {
     "data": {
      "text/plain": [
       "array([[-39.4018631 ,   2.27123451, -14.50884342,   0.        ],\n",
       "       [-39.38402939,   2.10378671, -14.61677551,   0.        ],\n",
       "       [-39.10272217,   2.12576747, -14.5669508 ,   0.        ],\n",
       "       ...,\n",
       "       [ 18.34498787, -10.02244377,  -9.96066666,   0.        ],\n",
       "       [ 18.50905037, -10.22513008,  -9.99820709,   0.        ],\n",
       "       [ 17.71750832,  -9.09092617,  -9.82278156,   0.        ]])"
      ]
     },
     "execution_count": 64,
     "metadata": {},
     "output_type": "execute_result"
    }
   ],
   "source": [
    "label_colors = [[1,0,0],[0,1,0],[0,0,1],[1,1,0],[1,0,1],[0,1,1],[1/2,0,0],[0,1/2,0],[0,0,1/2]]"
   ]
  },
  {
   "cell_type": "code",
   "execution_count": 63,
   "id": "c63ff2ea",
   "metadata": {},
   "outputs": [],
   "source": [
    "o3d.visualization.draw_geometries([np_to_by_label(sample_global_mesh_arr,6), np_to_pcd(cp_arr,[0,1,0])], mesh_show_back_face=False,mesh_show_wireframe=True)\n",
    "    "
   ]
  },
  {
   "cell_type": "code",
   "execution_count": 62,
   "id": "bcebe490",
   "metadata": {},
   "outputs": [],
   "source": [
    "def np_to_by_label(arr, axis=3):\n",
    "    pcd = o3d.geometry.PointCloud()\n",
    "    pcd.points = o3d.utility.Vector3dVector(arr[:,:3])\n",
    "    \n",
    "    palte = [[1,0,0],[0,1,0],[0,0,1],[1,1,0],[1,0,1],[0,1,1],[1/2,0,0],[0,1/2,0],[0,0,1/2]]\n",
    "    label_colors = np.zeros((arr.shape[0], 3))\n",
    "    for idx, palte_color in enumerate(palte):\n",
    "        label_colors[arr[:,axis]==idx] = palte[idx]\n",
    "    pcd.colors = o3d.utility.Vector3dVector(label_colors)\n",
    "    return pcd\n"
   ]
  },
  {
   "cell_type": "code",
   "execution_count": 133,
   "id": "ffa267d4",
   "metadata": {},
   "outputs": [
    {
     "data": {
      "text/plain": [
       "<module 'models.tsg_utils' from 'G:\\\\mesh\\\\segmentation\\\\models\\\\tsg_utils.py'>"
      ]
     },
     "execution_count": 133,
     "metadata": {},
     "output_type": "execute_result"
    }
   ],
   "source": [
    "import torch\n",
    "import models.tsg_utils as utils\n",
    "import importlib\n",
    "importlib.reload(utils)\n"
   ]
  },
  {
   "cell_type": "code",
   "execution_count": null,
   "id": "89a3edaa",
   "metadata": {},
   "outputs": [],
   "source": [
    "torch.rand((2,3))"
   ]
  },
  {
   "cell_type": "code",
   "execution_count": 158,
   "id": "81b43470",
   "metadata": {},
   "outputs": [],
   "source": [
    "import torch\n",
    "\n",
    "a = torch.tensor([2., 3.], requires_grad=False)\n",
    "b = torch.tensor([6., 4.], requires_grad=False)\n",
    "c = torch.tensor([6., 4.], requires_grad=True)\n",
    "d = torch.tensor([6., 4.], requires_grad=True)\n",
    "optimizer = torch.optim.Adam([a,b], lr=1e-3)"
   ]
  },
  {
   "cell_type": "code",
   "execution_count": 159,
   "id": "4545fbd4",
   "metadata": {},
   "outputs": [],
   "source": [
    "Q = 3*a**3 - b**2\n",
    "R = 2*a**2 - b**4\n",
    "T = 2*c**2 - d**4\n",
    "W = 4*c**2 - d**3\n",
    "\n",
    "loss = torch.sum(4-Q)\n",
    "loss_r = torch.sum(3-R)\n",
    "loss_t = torch.sum(Q-R)\n",
    "loss_c1 = torch.sum(T-R)\n",
    "loss_c2 = torch.sum(W-R)"
   ]
  },
  {
   "cell_type": "code",
   "execution_count": 160,
   "id": "eaa55e89",
   "metadata": {},
   "outputs": [],
   "source": [
    "loss_c1.backward()"
   ]
  },
  {
   "cell_type": "code",
   "execution_count": 161,
   "id": "078ef2c2",
   "metadata": {},
   "outputs": [],
   "source": [
    "loss_c2.backward()"
   ]
  },
  {
   "cell_type": "code",
   "execution_count": 141,
   "id": "662aba09",
   "metadata": {},
   "outputs": [],
   "source": [
    "(loss+loss_r+loss_t).backward()"
   ]
  },
  {
   "cell_type": "code",
   "execution_count": 130,
   "id": "3415ece3",
   "metadata": {},
   "outputs": [],
   "source": [
    "optimizer.zero_grad()"
   ]
  },
  {
   "cell_type": "code",
   "execution_count": 131,
   "id": "3c6132d2",
   "metadata": {},
   "outputs": [],
   "source": [
    "loss.backward(retain_graph=True)"
   ]
  },
  {
   "cell_type": "code",
   "execution_count": 132,
   "id": "671d85c2",
   "metadata": {},
   "outputs": [],
   "source": [
    "loss_r.backward(retain_graph=True)"
   ]
  },
  {
   "cell_type": "code",
   "execution_count": 133,
   "id": "fe0ca3cc",
   "metadata": {},
   "outputs": [],
   "source": [
    "loss_t.backward()"
   ]
  },
  {
   "cell_type": "code",
   "execution_count": 60,
   "id": "a1a977a2",
   "metadata": {},
   "outputs": [],
   "source": [
    "optimizer.step()"
   ]
  },
  {
   "cell_type": "code",
   "execution_count": 142,
   "id": "3e20efa3",
   "metadata": {
    "scrolled": true
   },
   "outputs": [
    {
     "name": "stdout",
     "output_type": "stream",
     "text": [
      "None\n",
      "tensor([1728.,  512.])\n"
     ]
    }
   ],
   "source": [
    "print(a.grad)\n",
    "print(b.grad)"
   ]
  },
  {
   "cell_type": "code",
   "execution_count": 75,
   "id": "669a624c",
   "metadata": {},
   "outputs": [
    {
     "data": {
      "text/plain": [
       "tensor([2., 3.], requires_grad=True)"
      ]
     },
     "execution_count": 75,
     "metadata": {},
     "output_type": "execute_result"
    }
   ],
   "source": [
    "a"
   ]
  },
  {
   "cell_type": "code",
   "execution_count": 28,
   "id": "5e3b8b23",
   "metadata": {},
   "outputs": [],
   "source": [
    "loss.backward()"
   ]
  },
  {
   "cell_type": "code",
   "execution_count": 31,
   "id": "7ffb8d5b",
   "metadata": {},
   "outputs": [
    {
     "data": {
      "text/plain": [
       "{'state': {},\n",
       " 'param_groups': [{'lr': 0.001,\n",
       "   'betas': (0.9, 0.999),\n",
       "   'eps': 1e-08,\n",
       "   'weight_decay': 0,\n",
       "   'amsgrad': False,\n",
       "   'params': [0, 1]}]}"
      ]
     },
     "execution_count": 31,
     "metadata": {},
     "output_type": "execute_result"
    }
   ],
   "source": [
    "optimizer.state_dict()"
   ]
  },
  {
   "cell_type": "code",
   "execution_count": 26,
   "id": "5bdb1211",
   "metadata": {},
   "outputs": [
    {
     "name": "stdout",
     "output_type": "stream",
     "text": [
      "tensor([-36., -81.])\n",
      "tensor([12.,  8.])\n"
     ]
    }
   ],
   "source": [
    "\n",
    "print(a.grad)\n",
    "print(b.grad)"
   ]
  },
  {
   "cell_type": "code",
   "execution_count": 6,
   "id": "a31b8f18",
   "metadata": {},
   "outputs": [
    {
     "ename": "RuntimeError",
     "evalue": "grad can be implicitly created only for scalar outputs",
     "output_type": "error",
     "traceback": [
      "\u001b[1;31m---------------------------------------------------------------------------\u001b[0m",
      "\u001b[1;31mRuntimeError\u001b[0m                              Traceback (most recent call last)",
      "\u001b[1;32m<ipython-input-6-42395d6027c1>\u001b[0m in \u001b[0;36m<module>\u001b[1;34m\u001b[0m\n\u001b[1;32m----> 1\u001b[1;33m \u001b[0mQ\u001b[0m\u001b[1;33m.\u001b[0m\u001b[0mbackward\u001b[0m\u001b[1;33m(\u001b[0m\u001b[1;33m)\u001b[0m\u001b[1;33m\u001b[0m\u001b[1;33m\u001b[0m\u001b[0m\n\u001b[0m",
      "\u001b[1;32mc:\\users\\user\\.conda\\envs\\hp\\lib\\site-packages\\torch\\tensor.py\u001b[0m in \u001b[0;36mbackward\u001b[1;34m(self, gradient, retain_graph, create_graph, inputs)\u001b[0m\n\u001b[0;32m    243\u001b[0m                 \u001b[0mcreate_graph\u001b[0m\u001b[1;33m=\u001b[0m\u001b[0mcreate_graph\u001b[0m\u001b[1;33m,\u001b[0m\u001b[1;33m\u001b[0m\u001b[1;33m\u001b[0m\u001b[0m\n\u001b[0;32m    244\u001b[0m                 inputs=inputs)\n\u001b[1;32m--> 245\u001b[1;33m         \u001b[0mtorch\u001b[0m\u001b[1;33m.\u001b[0m\u001b[0mautograd\u001b[0m\u001b[1;33m.\u001b[0m\u001b[0mbackward\u001b[0m\u001b[1;33m(\u001b[0m\u001b[0mself\u001b[0m\u001b[1;33m,\u001b[0m \u001b[0mgradient\u001b[0m\u001b[1;33m,\u001b[0m \u001b[0mretain_graph\u001b[0m\u001b[1;33m,\u001b[0m \u001b[0mcreate_graph\u001b[0m\u001b[1;33m,\u001b[0m \u001b[0minputs\u001b[0m\u001b[1;33m=\u001b[0m\u001b[0minputs\u001b[0m\u001b[1;33m)\u001b[0m\u001b[1;33m\u001b[0m\u001b[1;33m\u001b[0m\u001b[0m\n\u001b[0m\u001b[0;32m    246\u001b[0m \u001b[1;33m\u001b[0m\u001b[0m\n\u001b[0;32m    247\u001b[0m     \u001b[1;32mdef\u001b[0m \u001b[0mregister_hook\u001b[0m\u001b[1;33m(\u001b[0m\u001b[0mself\u001b[0m\u001b[1;33m,\u001b[0m \u001b[0mhook\u001b[0m\u001b[1;33m)\u001b[0m\u001b[1;33m:\u001b[0m\u001b[1;33m\u001b[0m\u001b[1;33m\u001b[0m\u001b[0m\n",
      "\u001b[1;32mc:\\users\\user\\.conda\\envs\\hp\\lib\\site-packages\\torch\\autograd\\__init__.py\u001b[0m in \u001b[0;36mbackward\u001b[1;34m(tensors, grad_tensors, retain_graph, create_graph, grad_variables, inputs)\u001b[0m\n\u001b[0;32m    139\u001b[0m \u001b[1;33m\u001b[0m\u001b[0m\n\u001b[0;32m    140\u001b[0m     \u001b[0mgrad_tensors_\u001b[0m \u001b[1;33m=\u001b[0m \u001b[0m_tensor_or_tensors_to_tuple\u001b[0m\u001b[1;33m(\u001b[0m\u001b[0mgrad_tensors\u001b[0m\u001b[1;33m,\u001b[0m \u001b[0mlen\u001b[0m\u001b[1;33m(\u001b[0m\u001b[0mtensors\u001b[0m\u001b[1;33m)\u001b[0m\u001b[1;33m)\u001b[0m\u001b[1;33m\u001b[0m\u001b[1;33m\u001b[0m\u001b[0m\n\u001b[1;32m--> 141\u001b[1;33m     \u001b[0mgrad_tensors_\u001b[0m \u001b[1;33m=\u001b[0m \u001b[0m_make_grads\u001b[0m\u001b[1;33m(\u001b[0m\u001b[0mtensors\u001b[0m\u001b[1;33m,\u001b[0m \u001b[0mgrad_tensors_\u001b[0m\u001b[1;33m)\u001b[0m\u001b[1;33m\u001b[0m\u001b[1;33m\u001b[0m\u001b[0m\n\u001b[0m\u001b[0;32m    142\u001b[0m     \u001b[1;32mif\u001b[0m \u001b[0mretain_graph\u001b[0m \u001b[1;32mis\u001b[0m \u001b[1;32mNone\u001b[0m\u001b[1;33m:\u001b[0m\u001b[1;33m\u001b[0m\u001b[1;33m\u001b[0m\u001b[0m\n\u001b[0;32m    143\u001b[0m         \u001b[0mretain_graph\u001b[0m \u001b[1;33m=\u001b[0m \u001b[0mcreate_graph\u001b[0m\u001b[1;33m\u001b[0m\u001b[1;33m\u001b[0m\u001b[0m\n",
      "\u001b[1;32mc:\\users\\user\\.conda\\envs\\hp\\lib\\site-packages\\torch\\autograd\\__init__.py\u001b[0m in \u001b[0;36m_make_grads\u001b[1;34m(outputs, grads)\u001b[0m\n\u001b[0;32m     48\u001b[0m             \u001b[1;32mif\u001b[0m \u001b[0mout\u001b[0m\u001b[1;33m.\u001b[0m\u001b[0mrequires_grad\u001b[0m\u001b[1;33m:\u001b[0m\u001b[1;33m\u001b[0m\u001b[1;33m\u001b[0m\u001b[0m\n\u001b[0;32m     49\u001b[0m                 \u001b[1;32mif\u001b[0m \u001b[0mout\u001b[0m\u001b[1;33m.\u001b[0m\u001b[0mnumel\u001b[0m\u001b[1;33m(\u001b[0m\u001b[1;33m)\u001b[0m \u001b[1;33m!=\u001b[0m \u001b[1;36m1\u001b[0m\u001b[1;33m:\u001b[0m\u001b[1;33m\u001b[0m\u001b[1;33m\u001b[0m\u001b[0m\n\u001b[1;32m---> 50\u001b[1;33m                     \u001b[1;32mraise\u001b[0m \u001b[0mRuntimeError\u001b[0m\u001b[1;33m(\u001b[0m\u001b[1;34m\"grad can be implicitly created only for scalar outputs\"\u001b[0m\u001b[1;33m)\u001b[0m\u001b[1;33m\u001b[0m\u001b[1;33m\u001b[0m\u001b[0m\n\u001b[0m\u001b[0;32m     51\u001b[0m                 \u001b[0mnew_grads\u001b[0m\u001b[1;33m.\u001b[0m\u001b[0mappend\u001b[0m\u001b[1;33m(\u001b[0m\u001b[0mtorch\u001b[0m\u001b[1;33m.\u001b[0m\u001b[0mones_like\u001b[0m\u001b[1;33m(\u001b[0m\u001b[0mout\u001b[0m\u001b[1;33m,\u001b[0m \u001b[0mmemory_format\u001b[0m\u001b[1;33m=\u001b[0m\u001b[0mtorch\u001b[0m\u001b[1;33m.\u001b[0m\u001b[0mpreserve_format\u001b[0m\u001b[1;33m)\u001b[0m\u001b[1;33m)\u001b[0m\u001b[1;33m\u001b[0m\u001b[1;33m\u001b[0m\u001b[0m\n\u001b[0;32m     52\u001b[0m             \u001b[1;32melse\u001b[0m\u001b[1;33m:\u001b[0m\u001b[1;33m\u001b[0m\u001b[1;33m\u001b[0m\u001b[0m\n",
      "\u001b[1;31mRuntimeError\u001b[0m: grad can be implicitly created only for scalar outputs"
     ]
    }
   ],
   "source": [
    "Q.backward()"
   ]
  }
 ],
 "metadata": {
  "kernelspec": {
   "display_name": "Python 3",
   "language": "python",
   "name": "python3"
  },
  "language_info": {
   "codemirror_mode": {
    "name": "ipython",
    "version": 3
   },
   "file_extension": ".py",
   "mimetype": "text/x-python",
   "name": "python",
   "nbconvert_exporter": "python",
   "pygments_lexer": "ipython3",
   "version": "3.6.13"
  }
 },
 "nbformat": 4,
 "nbformat_minor": 5
}
